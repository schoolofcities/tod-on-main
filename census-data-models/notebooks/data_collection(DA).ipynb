{
 "cells": [
  {
   "cell_type": "code",
   "execution_count": 2,
   "id": "424566ca-0d0c-4f7b-a56b-88fe69df88f3",
   "metadata": {},
   "outputs": [
    {
     "name": "stderr",
     "output_type": "stream",
     "text": [
      "── \u001b[1mAttaching core tidyverse packages\u001b[22m ──────────────────────── tidyverse 2.0.0 ──\n",
      "\u001b[32m✔\u001b[39m \u001b[34mdplyr    \u001b[39m 1.1.4     \u001b[32m✔\u001b[39m \u001b[34mpurrr    \u001b[39m 1.0.4\n",
      "\u001b[32m✔\u001b[39m \u001b[34mforcats  \u001b[39m 1.0.0     \u001b[32m✔\u001b[39m \u001b[34mstringr  \u001b[39m 1.5.1\n",
      "\u001b[32m✔\u001b[39m \u001b[34mggplot2  \u001b[39m 3.5.2     \u001b[32m✔\u001b[39m \u001b[34mtibble   \u001b[39m 3.3.0\n",
      "\u001b[32m✔\u001b[39m \u001b[34mlubridate\u001b[39m 1.9.4     \u001b[32m✔\u001b[39m \u001b[34mtidyr    \u001b[39m 1.3.1\n",
      "── \u001b[1mConflicts\u001b[22m ────────────────────────────────────────── tidyverse_conflicts() ──\n",
      "\u001b[31m✖\u001b[39m \u001b[34mdplyr\u001b[39m::\u001b[32mfilter()\u001b[39m masks \u001b[34mstats\u001b[39m::filter()\n",
      "\u001b[31m✖\u001b[39m \u001b[34mdplyr\u001b[39m::\u001b[32mlag()\u001b[39m    masks \u001b[34mstats\u001b[39m::lag()\n",
      "\u001b[36mℹ\u001b[39m Use the conflicted package (\u001b[3m\u001b[34m<http://conflicted.r-lib.org/>\u001b[39m\u001b[23m) to force all conflicts to become errors\n"
     ]
    }
   ],
   "source": [
    "library(cancensus)\n",
    "library(readr)\n",
    "library(tidyverse)"
   ]
  },
  {
   "cell_type": "code",
   "execution_count": 3,
   "id": "ecff9e73-2a33-424c-accb-a55adfbfd8f2",
   "metadata": {},
   "outputs": [
    {
     "name": "stderr",
     "output_type": "stream",
     "text": [
      "Adding key to your .Renviron file. Your original .Renviron will be backed up and stored in your R HOME directory if needed.\n",
      "\n",
      "Your API key has been stored in your .Renviron and can be accessed by Sys.getenv(\"CM_API_KEY\").\n",
      "\n",
      "Your original .Renviron will be backed up and stored in your R HOME directory if needed.\n",
      "\n",
      "Your cache path has been stored in your .Renviron and can be accessed by Sys.getenv(\"CM_CACHE_PATH\").\n",
      "\n"
     ]
    },
    {
     "data": {
      "text/html": [
       "'CensusMapper_4fda382528c055f4444b128227c83871'"
      ],
      "text/latex": [
       "'CensusMapper\\_4fda382528c055f4444b128227c83871'"
      ],
      "text/markdown": [
       "'CensusMapper_4fda382528c055f4444b128227c83871'"
      ],
      "text/plain": [
       "[1] \"CensusMapper_4fda382528c055f4444b128227c83871\""
      ]
     },
     "metadata": {},
     "output_type": "display_data"
    }
   ],
   "source": [
    "set_cancensus_api_key('CensusMapper_4fda382528c055f4444b128227c83871', install = TRUE, overwrite=TRUE)\n",
    "set_cancensus_cache_path('CensusMapper_4fda382528c055f4444b128227c83871', install = TRUE, overwrite=TRUE)"
   ]
  },
  {
   "cell_type": "code",
   "execution_count": 14,
   "id": "29166863-f281-4c58-bf41-b83e63e8a4c7",
   "metadata": {},
   "outputs": [],
   "source": [
    "# find_census_vectors(\"occupied\", dataset = \"CA11\", type = \"total\")"
   ]
  },
  {
   "cell_type": "code",
   "execution_count": 15,
   "id": "20f846fd-ae0d-4d08-a639-32f937233bfc",
   "metadata": {},
   "outputs": [],
   "source": [
    "# find_census_vectors(\"occupied\", dataset = \"CA06\", type = \"total\")"
   ]
  },
  {
   "cell_type": "markdown",
   "id": "3560a12c-2a0a-4107-b403-b8ab6b794be8",
   "metadata": {},
   "source": [
    "## 2021\n",
    "- Population density: v_CA21_6\n",
    "- Total: Private Dwellings: v_CA21_4\n",
    "- v_CA21_435: Single-detached house\n",
    "- v_CA21_436: Semi-detached house\n",
    "- v_CA21_437: Row house\n",
    "- v_CA21_438: Apartment or flat in a duplex\t\n",
    "- v_CA21_439: Apartment in a building that has fewer than five storeys\n",
    "- v_CA21_440: Apartment in a building that has five or more storeys\n",
    "- v_CA21_441: Other single-attached house\n",
    "- v_CA21_442: Movable dwelling\n",
    "- v_CA21_4245: No Bedrooms\n",
    "- v_CA21_4246: 1 Bedrooms\n",
    "- v_CA21_4247: 2 Bedrooms\n",
    "- v_CA21_4248: 3 Bedrooms\n",
    "- v_CA21_4249: 4 or more Bedrooms\n",
    "- v_CA21_4238: Tenure: Owner\n",
    "- v_CA21_4239: Tenure: Rent"
   ]
  },
  {
   "cell_type": "markdown",
   "id": "7551e752-0f83-4f0d-b8ea-d1680f3d23b6",
   "metadata": {},
   "source": [
    "## 2016\n",
    "- Population density: v_CA16_406\n",
    "- Total: Private Dwellings: v_CA16_404 (or v_CA16_408)\n",
    "- v_CA16_409: Single-detached house\n",
    "- v_CA16_412: Semi-detached house\n",
    "- v_CA16_413: Row house\n",
    "- v_CA16_414: Apartment or flat in a duplex\t\n",
    "- v_CA16_415: Apartment in a building that has fewer than five storeys\n",
    "- v_CA16_410: Apartment in a building that has five or more storeys\n",
    "- v_CA16_411: Other attached dwelling\n",
    "- v_CA16_416: Other single-attached house\n",
    "- v_CA16_417: Movable dwelling\n",
    "- v_CA16_4844: No Bedrooms\n",
    "- v_CA16_4845: 1 Bedrooms\n",
    "- v_CA16_4846: 2 Bedrooms\n",
    "- v_CA16_4847: 3 Bedrooms\n",
    "- v_CA16_4848: 4 or more Bedrooms\n",
    "- v_CA16_4837: Tenure: Owner\n",
    "- v_CA16_4838: Tenure: Rent"
   ]
  },
  {
   "cell_type": "markdown",
   "id": "3995eaed-3a6d-41c1-82af-0288c8e13c00",
   "metadata": {},
   "source": [
    "## 2011\n",
    "- v_CA11F_1: Population\n",
    "- v_CA11F_2: Total Private Dwellings\n",
    "- v_CA11F_4: Land areas in sq km\n",
    "- v_CA11F_200: Single-detached house\n",
    "- v_CA11F_204: Semi-detached house\n",
    "- v_CA11F_205: Row house\n",
    "- v_CA11F_206: Apartment, duplex\t\n",
    "- v_CA11F_207: Apartment in a building that has fewer than five storeys\n",
    "- v_CA11F_201: Apartment in a building that has five or more storeys\n",
    "- v_CA11F_203: Other dwelling\n",
    "- v_CA11F_208: Other single-attached house\n",
    "- v_CA11F_202: Movable dwelling\n",
    "- v_CA11N_2248: 0 to 1 Bedrooms\n",
    "- v_CA11N_2249: 2 Bedrooms\n",
    "- v_CA11N_2250: 3 Bedrooms\n",
    "- v_CA11N_2251: 4 or more Bedrooms\n",
    "- v_CA11N_2253: Tenure: Owner\n",
    "- v_CA11N_2254: Tenure: Rent"
   ]
  },
  {
   "cell_type": "markdown",
   "id": "23b0a025-8f03-4332-a8f6-6adbb6d5c4bb",
   "metadata": {},
   "source": [
    "## 2006\n",
    "- v_CA06_1: Population (no land information)\n",
    "- v_CA06_119: Total Private Dwellings\n",
    "- v_CA06_120: Single-detached house\n",
    "- v_CA06_121: Semi-detached house\n",
    "- v_CA06_122: Row house\n",
    "- v_CA06_123: Apartment, duplex\t\n",
    "- v_CA06_125: Apartment in a building that has fewer than five storeys\n",
    "- v_CA06_124: Apartment in a building that has five or more storeys\n",
    "- v_CA06_126: Other single-attached house\n",
    "- v_CA06_127: Movable dwelling\n",
    "- v_CA06_100: Average number of bedrooms per dwelling\n",
    "- v_CA06_102: Tenure: Owner\n",
    "- v_CA06_103: Tenure: Rent"
   ]
  },
  {
   "cell_type": "markdown",
   "id": "585908ec-2583-4fd5-8a4c-4167f151d348",
   "metadata": {},
   "source": [
    "## 2001\n",
    "- v_CA01_96: Total Private Dwellings\n",
    "- v_CA01_113: Single-detached house\n",
    "- v_CA01_114: Semi-detached house\n",
    "- v_CA01_115: Row house\n",
    "- v_CA01_116: Apartment, duplex\t\n",
    "- v_CA01_118: Apartment in a building that has fewer than five storeys\n",
    "- v_CA01_117: Apartment in a building that has five or more storeys\n",
    "- v_CA01_119: Other single-attached house\n",
    "- v_CA01_120: Movable dwelling\n",
    "- v_CA01_98: Average number of bedrooms per dwelling\n",
    "- v_CA01_99: Tenure: Owner\n",
    "- v_CA01_100: Tenure: Rent"
   ]
  },
  {
   "cell_type": "code",
   "execution_count": 16,
   "id": "50bb1608-b543-4666-9800-50472898cd0a",
   "metadata": {},
   "outputs": [
    {
     "name": "stderr",
     "output_type": "stream",
     "text": [
      "Reading vectors data from local cache.\n",
      "\n"
     ]
    }
   ],
   "source": [
    "da21 <- get_census(dataset='CA21',regions = list(C=\"Canada\"), \n",
    "                   vectors=c(\"v_CA21_6\", \"v_CA21_434\", \"v_CA21_435\", \"v_CA21_436\", \"v_CA21_437\", \"v_CA21_438\", \"v_CA21_439\", \"v_CA21_440\", \"v_CA21_441\", \"v_CA21_442\", \"v_CA21_4245\", \"v_CA21_4246\", \"v_CA21_4247\", \"v_CA21_4248\", \"v_CA21_4249\", \"v_CA21_4238\", \"v_CA21_4239\"),\n",
    "                   level='DA')"
   ]
  },
  {
   "cell_type": "code",
   "execution_count": 17,
   "id": "308b8622-0344-4c3f-83ae-f8ad567f7def",
   "metadata": {},
   "outputs": [
    {
     "name": "stderr",
     "output_type": "stream",
     "text": [
      "Reading vectors data from local cache.\n",
      "\n"
     ]
    }
   ],
   "source": [
    "da16 <- get_census(dataset='CA16',regions = list(C=\"Canada\"), \n",
    "                   vectors=c(\"v_CA16_406\", \"v_CA16_408\", \"v_CA16_409\", \"v_CA16_412\", \"v_CA16_413\", \"v_CA16_414\", \"v_CA16_415\", \"v_CA16_410\", \"v_CA16_411\", \"v_CA16_416\", \"v_CA16_417\", \"v_CA16_4844\", \"v_CA16_4845\", \"v_CA16_4846\", \"v_CA16_4847\", \"v_CA16_4848\", \"v_CA16_4837\", \"v_CA16_4838\"),\n",
    "                   level='DA')"
   ]
  },
  {
   "cell_type": "code",
   "execution_count": 18,
   "id": "294118aa-3077-4ba8-8c46-494a036538c0",
   "metadata": {},
   "outputs": [
    {
     "name": "stderr",
     "output_type": "stream",
     "text": [
      "Querying CensusMapper API...\n",
      "\n"
     ]
    },
    {
     "name": "stdout",
     "output_type": "stream",
     "text": [
      "Downloading: 2.2 MB     "
     ]
    }
   ],
   "source": [
    "da11 <- get_census(dataset='CA11',regions = list(C=\"Canada\"), \n",
    "                   vectors=c(\"v_CA11F_1\", \"v_CA11F_199\", \"v_CA11F_4\", \"v_CA11F_200\", \"v_CA11F_204\", \"v_CA11F_205\", \"v_CA11F_206\", \"v_CA11F_207\", \"v_CA11F_201\", \"v_CA11F_203\", \"v_CA11F_208\", \"v_CA11F_202\", \"v_CA11N_2248\", \"v_CA11N_2249\", \"v_CA11N_2250\", \"v_CA11N_2251\", \"v_CA11N_2253\", \"v_CA11N_2254\"),\n",
    "                   level='DA')"
   ]
  },
  {
   "cell_type": "code",
   "execution_count": 19,
   "id": "80b41c8c-212f-4b26-be29-14e3da97f790",
   "metadata": {},
   "outputs": [
    {
     "name": "stderr",
     "output_type": "stream",
     "text": [
      "Reading vectors data from local cache.\n",
      "\n"
     ]
    }
   ],
   "source": [
    "da06 <- get_census(dataset='CA06',regions = list(C=\"Canada\"), \n",
    "                   vectors=c(\"v_CA06_1\", \"v_CA06_119\", \"v_CA06_120\", \"v_CA06_121\", \"v_CA06_122\", \"v_CA06_123\", \"v_CA06_124\", \"v_CA06_125\", \"v_CA06_126\", \"v_CA06_127\", \"v_CA06_100\", \"v_CA06_102\", \"v_CA06_103\"),\n",
    "                   level='DA')"
   ]
  },
  {
   "cell_type": "code",
   "execution_count": 23,
   "id": "42d0ae1b-e9d6-4add-a7d0-6e93ba5aabe3",
   "metadata": {},
   "outputs": [
    {
     "name": "stderr",
     "output_type": "stream",
     "text": [
      "Querying CensusMapper API...\n",
      "\n"
     ]
    },
    {
     "name": "stdout",
     "output_type": "stream",
     "text": [
      "Downloading: 1.7 MB     "
     ]
    }
   ],
   "source": [
    "da01 <- get_census(dataset='CA01',regions = list(C=\"Canada\"), \n",
    "                   vectors=c(\"v_CA01_96\", \"v_CA01_112\",\n",
    "    \"v_CA01_113\",\n",
    "    \"v_CA01_114\",\n",
    "    \"v_CA01_115\",\n",
    "    \"v_CA01_116\",\n",
    "    \"v_CA01_118\",\n",
    "    \"v_CA01_117\",\n",
    "    \"v_CA01_119\",\n",
    "    \"v_CA01_120\",\n",
    "    \"v_CA01_98\",\n",
    "    \"v_CA01_99\",\n",
    "    \"v_CA01_100\"),\n",
    "                   level='DA')"
   ]
  },
  {
   "cell_type": "code",
   "execution_count": 25,
   "id": "fadaad81-fce4-4e16-a1ef-535a1b656ede",
   "metadata": {},
   "outputs": [],
   "source": [
    "# write_csv(da21, \"2021_da.csv\")\n",
    "# write_csv(da16, \"2016_da.csv\")\n",
    "# write_csv(da11, \"2011_da.csv\")\n",
    "# write_csv(da06, \"2006_da.csv\")\n",
    "write_csv(da01, \"2001_da.csv\")"
   ]
  },
  {
   "cell_type": "code",
   "execution_count": null,
   "id": "1ee6d846-de3d-4318-bb59-ef0cdd3ac34e",
   "metadata": {},
   "outputs": [],
   "source": []
  }
 ],
 "metadata": {
  "kernelspec": {
   "display_name": "R",
   "language": "R",
   "name": "ir"
  },
  "language_info": {
   "codemirror_mode": "r",
   "file_extension": ".r",
   "mimetype": "text/x-r-source",
   "name": "R",
   "pygments_lexer": "r",
   "version": "4.4.3"
  }
 },
 "nbformat": 4,
 "nbformat_minor": 5
}
