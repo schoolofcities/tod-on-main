{
 "cells": [
  {
   "cell_type": "markdown",
   "id": "b8ec9b5c-c85f-4f17-89dc-530fb9ae117c",
   "metadata": {},
   "source": [
    "## 0. Setup"
   ]
  },
  {
   "cell_type": "code",
   "execution_count": 1,
   "id": "e1ad9afb-6936-4267-b7d8-7dd52f7b6ac9",
   "metadata": {},
   "outputs": [],
   "source": [
    "import pandas as pd\n",
    "import geopandas as gpd\n",
    "import matplotlib.pyplot as plt\n",
    "import re\n",
    "from dbfread import DBF"
   ]
  },
  {
   "cell_type": "code",
   "execution_count": 2,
   "id": "94261466-4c6f-4fae-b1a5-1e1723da9c9d",
   "metadata": {},
   "outputs": [],
   "source": [
    "# CT_data: https://borealisdata.ca/dataverse/unicen_aggregate\n",
    "# Borders_data: https://borealisdata.ca/dataverse/unicen_boundaries\n",
    "\n",
    "ct_borders_1976 = gpd.read_file(\"../data_raw/CT_data/1976/ct_1976.geojson\")\n",
    "ct_census_1976 = pd.DataFrame(DBF(\"../data_raw/CT_data/1976/census_wide_1976_ct.dbf\"))\n",
    "\n",
    "ct_borders_1981 = gpd.read_file(\"../data_raw/CT_data/1981/ct_1981.geojson\")\n",
    "ct_census_1981 = pd.read_csv(\"../data_raw/CT_data/1981/census_wide_1981_ct.csv\")\n",
    "\n",
    "ct_borders_1986 = gpd.read_file(\"../data_raw/CT_data/1986/ct_1986.geojson\")\n",
    "ct_census_1986 = pd.read_csv(\"../data_raw/CT_data/1986/census_wide_1986_ct.csv\")\n",
    "\n",
    "ct_borders_1991 = gpd.read_file(\"../data_raw/CT_data/1991/ct_1991.geojson\")\n",
    "ct_census_1991 = pd.read_csv(\"../data_raw/CT_data/1991/census_wide_1991_ct.csv\")\n",
    "\n",
    "ct_borders_1996 = gpd.read_file(\"../data_raw/CT_data/1996/ct_1996.geojson\")\n",
    "ct_census_1996 = pd.read_csv(\"../data_raw/CT_data/1996/census_wide_1996_ct.csv\")"
   ]
  },
  {
   "cell_type": "code",
   "execution_count": 3,
   "id": "0d78437a-bbad-4809-baf1-7b1a9a7885d4",
   "metadata": {},
   "outputs": [],
   "source": [
    "years = {\n",
    "    \"1981\": [ct_borders_1981, ct_census_1981], \n",
    "    \"1986\": [ct_borders_1986, ct_census_1986], \n",
    "    \"1991\": [ct_borders_1991, ct_census_1991],\n",
    "    \"1996\": [ct_borders_1996, ct_census_1996]\n",
    "}\n"
   ]
  },
  {
   "cell_type": "markdown",
   "id": "73f5ed12-c253-45b1-bd43-825a6f139652",
   "metadata": {},
   "source": [
    "## 1.01: How to find the columns we want"
   ]
  },
  {
   "cell_type": "code",
   "execution_count": 4,
   "id": "94c5b127-8c02-4723-baac-0a022199c0cc",
   "metadata": {},
   "outputs": [],
   "source": [
    "# Download and open the codebook, then search the heading we want, get the corresponding code (e.g. Population density: dnk22021ttn)"
   ]
  },
  {
   "cell_type": "markdown",
   "id": "01fdb241-a37b-448c-943c-dd27c3e6fc04",
   "metadata": {},
   "source": [
    "## 1.1: Collect only the columns that we want"
   ]
  },
  {
   "cell_type": "code",
   "execution_count": 5,
   "id": "5ec5a8a9-a556-430c-80e6-a9673e1199d8",
   "metadata": {},
   "outputs": [],
   "source": [
    "\n",
    "# - Population density: dnk2{year}ttn\n",
    "# - Dwelling types: dwtp\n",
    "# - Number of bedrooms: dwbd\n",
    "# - Tenure: hhtn"
   ]
  },
  {
   "cell_type": "code",
   "execution_count": 6,
   "id": "5ef2dd44-4acd-4056-9cbc-bb95a3664846",
   "metadata": {},
   "outputs": [],
   "source": [
    "def get_columns(pattern, census_columns):\n",
    "    # Function to get the column names based on a pattern\n",
    "    matches = census_columns.str.findall(pattern)\n",
    "    columns_extracted = matches[matches.apply(bool)].index\n",
    "    return list(columns_extracted)"
   ]
  },
  {
   "cell_type": "code",
   "execution_count": 7,
   "id": "17097981-23db-4e77-ac81-984491fd37eb",
   "metadata": {},
   "outputs": [],
   "source": [
    "def extracted_census(census):\n",
    "    # Gets the columns that we want based on the t_theme code\n",
    "    \n",
    "    census_columns = census.columns.to_series()\n",
    "    \n",
    "    # dwellings = get_columns(r\"^dw\") This is for all dwelling information\n",
    "    density = get_columns(r\"^dnk2\", census_columns)\n",
    "    population = get_columns(r\"^pop\", census_columns)\n",
    "    dw_types = get_columns(r\"^dwtp\", census_columns)\n",
    "    household = get_columns(r\"^hhtn\", census_columns)\n",
    "    num_bedrooms = get_columns(r\"^dwbd\", census_columns)\n",
    "    \n",
    "    all_cols = [\"geosid\"] + density + population + dw_types + household + num_bedrooms\n",
    "    return census[all_cols]"
   ]
  },
  {
   "cell_type": "code",
   "execution_count": 8,
   "id": "6babb864-ed57-4b5a-9a14-23b0b8b6a8a1",
   "metadata": {},
   "outputs": [],
   "source": [
    "def joining_data(census, borders):\n",
    "    # Joins the Census and the Boundary data together on geosid\n",
    "    borders[\"geosid\"] = borders[\"geosid\"].astype(float)\n",
    "    return_df = census.merge(borders, on=\"geosid\")\n",
    "    return return_df"
   ]
  },
  {
   "cell_type": "code",
   "execution_count": 9,
   "id": "87a2d3a0-7f38-4803-a499-9a9529e739f5",
   "metadata": {},
   "outputs": [],
   "source": [
    "def data_extraction(census, boundaries, rename_dict):\n",
    "    ct = extracted_census(census)\n",
    "    ct = ct.rename(columns={k: v for k, v in rename_dict.items() if k in ct.columns})\n",
    "    ct = ct[[\"geosid\"] + [col for col in rename_dict.values() if col in ct.columns]]\n",
    "    joined = joining_data(ct, boundaries)\n",
    "    ct[\"Population Density per square kilometre\"] = joined[\"Total Population\"] / joined[\"areakm\"]\n",
    "    ct = ct.drop(\"Total Population\", axis = 1)\n",
    "    return ct"
   ]
  },
  {
   "cell_type": "code",
   "execution_count": 10,
   "id": "5ea3f746-b728-4791-bcc9-0e57a2923255",
   "metadata": {},
   "outputs": [],
   "source": [
    "complete_data = []\n",
    "\n",
    "for i in years.keys():\n",
    "    year = str(i)\n",
    "\n",
    "    rename_dict = {\n",
    "        f'dnk2{year}ttn': 'Population Density per square kilometre',\n",
    "        f'pop__tot{year}ttd': \"Total Population\",\n",
    "        f'dwtp_tot{year}ttd': 'Total Occupied Private Dwellings',\n",
    "        f'dwtpsdet{year}tt1': \"Single-detached house\",\n",
    "        f'dwtpatchsemi{year}tt1': \"Semi-detached house\",\n",
    "        f'dwtpatchrow_{year}tt1': \"Row house\",\n",
    "        f'dwtpdupl{year}tt1': \"Apartment, duplex\",\n",
    "        f'dwtpapt0{year}tt1': 'Apartment, building that has fewer than five storeys',\n",
    "        f'dwtpapt5{year}tt1': 'Apartment, building that has five or more storeys',\n",
    "        f'dwtpmove{year}tt1': 'Movable dwelling',\n",
    "        f'dwtpothr{year}tt1': 'Other dwelling',\n",
    "        \n",
    "        f'dwbd0000{year}tt1': \"No bedrooms\",\n",
    "        f'dwbd0001{year}tt1': \"1 bedroom\",\n",
    "        f'dwbd0002{year}tt1': \"2 bedrooms\",\n",
    "        f'dwbd0003{year}tt1': \"3 bedrooms\",\n",
    "        f'dwbd0004{year}tt1': \"4 bedrooms\",\n",
    "        f'dwbd005p{year}tt1': \"5 or more bedrooms\",\n",
    "        \n",
    "        f\"dwbd_avg{year}ttn\": \"Average number of bedrooms per dwelling\",\n",
    "        # f\"hhtn_tot{year}ttd\": \"Total Private Households\",          Is this useful?\n",
    "        f'hhtnown_{year}tt1': 'Owned',\n",
    "        f'hhtnrent{year}tt1': 'Rented',\n",
    "    }\n",
    "\n",
    "    complete_data.append(data_extraction(years[i][1], years[i][0], rename_dict))"
   ]
  },
  {
   "cell_type": "code",
   "execution_count": 11,
   "id": "37045e17-c317-4a1e-a91f-ab02f50ed63a",
   "metadata": {
    "scrolled": true
   },
   "outputs": [],
   "source": [
    "rename_dict_1976 = {\n",
    "    'pop_003d76': 'Total Population',\n",
    "    'dwtp003d76': 'Total Occupied Private Dwellings', \n",
    "    'dwtp006176': 'Apartment', \n",
    "    'dwtp009176': 'Row house', \n",
    "    'dwtp012176': 'Semi-detached house',\n",
    "    'dwtp015176': 'Apartment, duplex',\n",
    "    'dwtp018176': 'Movable dwelling',\n",
    "    'dwtp021176': 'Single-detached house',\n",
    "    #'hhtn003d76': \"Total Private Households\",          Is this useful?\n",
    "    'hhtn006176': 'Owned',\n",
    "    'hhtn009176': 'Rented'\n",
    "}\n",
    "ct_census_1976[\"geosid\"] = ct_census_1976[\"geosid\"].astype(float)\n",
    "ct_borders_1976 = ct_borders_1976.drop(index=[2310, 2484])\n",
    "ct1976 = data_extraction(ct_census_1976, ct_borders_1976, rename_dict_1976)"
   ]
  },
  {
   "cell_type": "markdown",
   "id": "30d07c15-e77a-416f-9a7a-0b53d669dfb2",
   "metadata": {},
   "source": [
    "## 1991 Edits"
   ]
  },
  {
   "cell_type": "code",
   "execution_count": 12,
   "id": "deae1cc6-4856-4e77-8992-a855e1a53e71",
   "metadata": {},
   "outputs": [],
   "source": [
    "complete_data[2][\"4 or more bedrooms\"] = complete_data[2][\"5 or more bedrooms\"] + complete_data[2][\"4 bedrooms\"]\n",
    "complete_data[2][\"0 to 1 bedroom\"] = complete_data[2][\"No bedrooms\"] + complete_data[2][\"1 bedroom\"]\n",
    "# complete_data[2] = complete_data[2].drop([\"5 or more bedrooms\", \"4 bedrooms\", \"No bedrooms\", \"1 bedroom\"], axis=1)"
   ]
  },
  {
   "cell_type": "code",
   "execution_count": 13,
   "id": "275f9d72-ad9f-423e-8fad-f94f301c2791",
   "metadata": {},
   "outputs": [],
   "source": [
    "# Adds this information since it doesn't exist in UNICEN for 1991\n",
    "ct1991_extra = pd.read_csv(\"../data_raw/CT_data/1991/ct1991.csv\", skiprows = 693)"
   ]
  },
  {
   "cell_type": "code",
   "execution_count": 14,
   "id": "ec4bfc07-2d7e-4854-9b71-031b6d76a27d",
   "metadata": {},
   "outputs": [],
   "source": [
    "dwelling_types = pd.concat([ct1991_extra.iloc[:,[1,2]],ct1991_extra.iloc[:,87:95]], axis=1)\n",
    "dwelling_types[\"geosid\"] = dwelling_types[\"COL1\"] * 10000 + dwelling_types[\"COL2\"]\n",
    "ct1991 = complete_data[2].merge(dwelling_types, on = \"geosid\")"
   ]
  },
  {
   "cell_type": "code",
   "execution_count": 15,
   "id": "026ce75f-8b00-4c22-a5da-f2847ea21487",
   "metadata": {},
   "outputs": [],
   "source": [
    "ct1991 = ct1991.drop([\"Single-detached house\", \n",
    "                      \"Apartment, building that has five or more storeys\", \n",
    "                      \"Movable dwelling\", \"COL1\", \"COL2\"], axis=1)\n",
    "\n",
    "rename_dict_1991 = {\n",
    "        \"COL87\": 'Single-detached house',\n",
    "        \"COL88\": 'Semi-detached house',\n",
    "        \"COL89\": 'Row house',\n",
    "        \"COL90\": 'Apartment, duplex',\n",
    "        \"COL91\": 'Apartment, building that has five or more storeys',\n",
    "        \"COL92\": 'Apartment, building that has fewer than five storeys',\n",
    "        \"COL93\": 'Other single-attached house',\n",
    "        \"COL94\": 'Movable dwelling',\n",
    "    }\n",
    "\n",
    "ct1991 = ct1991.rename(columns=rename_dict_1991)"
   ]
  },
  {
   "cell_type": "markdown",
   "id": "b92ad709-e34c-416b-a3d3-89f03fad32b3",
   "metadata": {},
   "source": [
    "## Export as csv"
   ]
  },
  {
   "cell_type": "code",
   "execution_count": 16,
   "id": "25230323-1624-40ad-b5d2-5943ce935ff4",
   "metadata": {},
   "outputs": [],
   "source": [
    "ct1976.to_csv('../data_raw/cleaned_data/1976_census_data.csv', index=False)\n",
    "complete_data[0].to_csv('../data_raw/cleaned_data/1981_census_data.csv', index=False)\n",
    "complete_data[1].to_csv('../data_raw/cleaned_data/1986_census_data.csv', index=False)\n",
    "ct1991.to_csv('../data_raw/cleaned_data/1991_census_data.csv', index=False)\n",
    "complete_data[3].to_csv('../data_raw/cleaned_data/1996_census_data.csv', index=False)"
   ]
  }
 ],
 "metadata": {
  "kernelspec": {
   "display_name": "Python 3 (ipykernel)",
   "language": "python",
   "name": "python3"
  },
  "language_info": {
   "codemirror_mode": {
    "name": "ipython",
    "version": 3
   },
   "file_extension": ".py",
   "mimetype": "text/x-python",
   "name": "python",
   "nbconvert_exporter": "python",
   "pygments_lexer": "ipython3",
   "version": "3.13.5"
  }
 },
 "nbformat": 4,
 "nbformat_minor": 5
}
