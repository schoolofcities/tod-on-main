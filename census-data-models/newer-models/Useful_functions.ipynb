{
 "cells": [
  {
   "cell_type": "code",
   "execution_count": null,
   "id": "2a8fe0b0-ebaf-4bc4-9420-ab6bcf5a9880",
   "metadata": {},
   "outputs": [],
   "source": [
    "def calculating_average_bedrooms(df, before = True):\n",
    "    \"\"\"\n",
    "    Input the dataframe and whether the columns are 'before' or 'after'\n",
    "\n",
    "    This will calculate the approximate average number of bedrooms per dwelling\n",
    "    \"\"\"\n",
    "    word = \"Before\" if before else \"After\"\n",
    "    null_rows = df[df[f\"{word} Average number of bedrooms per dwelling\"].isnull()]\n",
    "    weighted_sum = (0.5 * null_rows[f\"{word} 0 to 1 bedroom\"] + 2 * null_rows[f\"{word} 2 bedrooms\"] + 3 * null_rows[f\"{word} 3 bedrooms\"] + 4.5 * null_rows[f\"{word} 4 or more bedrooms\"])\n",
    "    total = (null_rows[[f\"{word} 0 to 1 bedroom\", f\"{word} 2 bedrooms\", f\"{word} 3 bedrooms\", f\"{word} 4 or more bedrooms\"]].sum(axis=1))\n",
    "    null_rows[f\"{word} Average number of bedrooms per dwelling\"] = weighted_sum / total\n",
    "    df.loc[null_rows.index, f\"{word} Average number of bedrooms per dwelling\"] = null_rows[f\"{word} Average number of bedrooms per dwelling\"]"
   ]
  },
  {
   "cell_type": "code",
   "execution_count": null,
   "id": "ed51632b-7430-42db-b2d1-47f8e28ea786",
   "metadata": {},
   "outputs": [],
   "source": [
    "def impute_dwellings(df, before=True):\n",
    "    \"\"\"\n",
    "    Input the dataframe and whether the columns are 'before' or 'after'\n",
    "\n",
    "    This will fill in the missing values of 'Dwellings' given 'Total Occupied Private Dwellings', 'Owned', 'Rented'\n",
    "    This imputation has a very high accuracy so it is useful\n",
    "    \"\"\"\n",
    "    \n",
    "    word = \"Before\" if before else \"After\"\n",
    "    df_known = df[df[f'{word} Dwellings'].notna()]\n",
    "    df_missing = df[df[f'{word} Dwellings'].isna()]\n",
    "    X_train = df_known[[f\"{word} Total Occupied Private Dwellings\", f\"{word} Owned\", f\"{word} Rented\"]]\n",
    "    y_train = df_known[f\"{word} Dwellings\"]\n",
    "    model = LinearRegression()\n",
    "    model.fit(X_train, y_train)\n",
    "    X_missing = df_missing[[f\"{word} Total Occupied Private Dwellings\", f\"{word} Owned\", f\"{word} Rented\"]]\n",
    "    y_pred = model.predict(X_missing)\n",
    "    df.loc[df[f'{word} Dwellings'].isna(), f'{word} Dwellings'] = y_pred"
   ]
  },
  {
   "cell_type": "code",
   "execution_count": null,
   "id": "d2c63812-6b82-4001-bbc9-bed4260e812d",
   "metadata": {},
   "outputs": [],
   "source": [
    "def kkn_imputation(df):\n",
    "    \"\"\"\n",
    "    Input the dataframe \n",
    "\n",
    "    This will fill in the missing values given the 3 nearest neighbors\n",
    "\n",
    "    \"\"\"\n",
    "    imputer = KNNImputer(n_neighbors=3) \n",
    "    imputed_df = pd.DataFrame(imputer.fit_transform(df), columns=df.columns)\n",
    "    return imputed_df"
   ]
  },
  {
   "cell_type": "code",
   "execution_count": null,
   "id": "f26085a7-ebd3-4a9a-9c11-c234ff1ed902",
   "metadata": {},
   "outputs": [],
   "source": [
    "def log_and_standardize(df):\n",
    "    \"\"\"\n",
    "    Input the dataframe \n",
    "\n",
    "    This will take logs of all the columns, useful since the columns are all right skewed\n",
    "    Then it will standardize the data, useful for understanding the impact of each feature\n",
    "    \"\"\"\n",
    "    log_df = np.log(df + 1)\n",
    "    standardized_df = (log_df - log_df.mean()) / log_df.std()\n",
    "    return standardized_df"
   ]
  }
 ],
 "metadata": {
  "kernelspec": {
   "display_name": "Python 3 (ipykernel)",
   "language": "python",
   "name": "python3"
  },
  "language_info": {
   "codemirror_mode": {
    "name": "ipython",
    "version": 3
   },
   "file_extension": ".py",
   "mimetype": "text/x-python",
   "name": "python",
   "nbconvert_exporter": "python",
   "pygments_lexer": "ipython3",
   "version": "3.13.5"
  }
 },
 "nbformat": 4,
 "nbformat_minor": 5
}
