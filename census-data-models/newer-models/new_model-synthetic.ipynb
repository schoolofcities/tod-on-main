{
 "cells": [
  {
   "cell_type": "markdown",
   "id": "b0219eb8-4eab-4cd0-8961-fbee02794dae",
   "metadata": {},
   "source": [
    "## Setup"
   ]
  },
  {
   "cell_type": "code",
   "execution_count": 29,
   "id": "dd5ff1fd-ea12-4061-a231-6562cbd0f836",
   "metadata": {},
   "outputs": [],
   "source": [
    "import pandas as pd\n",
    "import numpy as np\n",
    "import seaborn as sns\n",
    "import matplotlib.pyplot as plt\n",
    "\n",
    "from sklearn.cluster import KMeans\n",
    "from sklearn.impute import SimpleImputer\n",
    "from sklearn.model_selection import train_test_split\n",
    "from sklearn.linear_model import LinearRegression\n",
    "from sklearn.metrics import mean_squared_error, r2_score\n",
    "from sklearn.linear_model import Ridge, Lasso\n",
    "from sklearn.model_selection import KFold\n",
    "\n",
    "from xgboost import XGBRegressor"
   ]
  },
  {
   "cell_type": "markdown",
   "id": "5fde734e-3ff1-493b-9652-b88877e155cd",
   "metadata": {},
   "source": [
    "## EDA"
   ]
  },
  {
   "cell_type": "code",
   "execution_count": 2,
   "id": "2ee3909e-51cc-4ad3-97ea-42dd4995eea9",
   "metadata": {},
   "outputs": [],
   "source": [
    "df = pd.read_csv('../data/tod-on-main.csv')"
   ]
  },
  {
   "cell_type": "code",
   "execution_count": 3,
   "id": "03efe14b-0f2d-4538-8bf2-8b12bfcb0a63",
   "metadata": {},
   "outputs": [],
   "source": [
    "df = df.dropna(subset=['n_movers_out_Lowincome'])"
   ]
  },
  {
   "cell_type": "code",
   "execution_count": 4,
   "id": "04760282-c440-4574-8366-c74d8e61a752",
   "metadata": {},
   "outputs": [],
   "source": [
    "df = df.dropna(subset=['n_stayers'])"
   ]
  },
  {
   "cell_type": "code",
   "execution_count": 5,
   "id": "09841c24-6207-4c7f-844a-99351996cd06",
   "metadata": {},
   "outputs": [],
   "source": [
    "df = df.dropna(subset=['n_stayers_Lowincome'])"
   ]
  },
  {
   "cell_type": "markdown",
   "id": "ebc99612-bc75-4d5e-8198-0cfc60cdbf16",
   "metadata": {},
   "source": [
    "## New Model EDA"
   ]
  },
  {
   "cell_type": "code",
   "execution_count": 6,
   "id": "c54d2f60-a391-463c-bfe5-541a6f2bab81",
   "metadata": {},
   "outputs": [],
   "source": [
    "y1 = df[\"n_movers_out\"]\n",
    "y2 = df[\"n_movers_out_Lowincome\"]\n",
    "y3 = df[\"n_movers_in\"]\n",
    "y4 = df[\"n_movers_in_Lowincome\"]"
   ]
  },
  {
   "cell_type": "code",
   "execution_count": 7,
   "id": "540855a5-ebf5-4ccd-b384-6f7bba5227f1",
   "metadata": {},
   "outputs": [],
   "source": [
    "before_df = df.filter(regex=r'^(Before)', axis=1)\n",
    "after_df = df.filter(regex=r'^(After)', axis=1)"
   ]
  },
  {
   "cell_type": "code",
   "execution_count": 8,
   "id": "22493cf4-6cbe-48bd-a1d3-5d326ada6a99",
   "metadata": {},
   "outputs": [],
   "source": [
    "def calculating_average_bedrooms(df, before = True):\n",
    "    word = \"Before\" if before else \"After\"\n",
    "    null_rows = df[df[f\"{word} Average number of bedrooms per dwelling\"].isnull()]\n",
    "    weighted_sum = (0.5 * null_rows[f\"{word} 0 to 1 bedroom\"] + 2 * null_rows[f\"{word} 2 bedrooms\"] + 3 * null_rows[f\"{word} 3 bedrooms\"] + 4.5 * null_rows[f\"{word} 4 or more bedrooms\"])\n",
    "    total = (null_rows[[f\"{word} 0 to 1 bedroom\", f\"{word} 2 bedrooms\", f\"{word} 3 bedrooms\", f\"{word} 4 or more bedrooms\"]].sum(axis=1))\n",
    "    null_rows[f\"{word} Average number of bedrooms per dwelling\"] = weighted_sum / total\n",
    "    df.loc[null_rows.index, f\"{word} Average number of bedrooms per dwelling\"] = null_rows[f\"{word} Average number of bedrooms per dwelling\"]"
   ]
  },
  {
   "cell_type": "code",
   "execution_count": 9,
   "id": "6216dfab-83a4-4eaf-949f-f415ee799fa0",
   "metadata": {
    "scrolled": true
   },
   "outputs": [
    {
     "name": "stderr",
     "output_type": "stream",
     "text": [
      "/var/folders/qd/w0jg42cx76sc6s81d9zfb7t80000gn/T/ipykernel_1003/1411688805.py:6: SettingWithCopyWarning: \n",
      "A value is trying to be set on a copy of a slice from a DataFrame.\n",
      "Try using .loc[row_indexer,col_indexer] = value instead\n",
      "\n",
      "See the caveats in the documentation: https://pandas.pydata.org/pandas-docs/stable/user_guide/indexing.html#returning-a-view-versus-a-copy\n",
      "  null_rows[f\"{word} Average number of bedrooms per dwelling\"] = weighted_sum / total\n",
      "/var/folders/qd/w0jg42cx76sc6s81d9zfb7t80000gn/T/ipykernel_1003/1411688805.py:7: SettingWithCopyWarning: \n",
      "A value is trying to be set on a copy of a slice from a DataFrame\n",
      "\n",
      "See the caveats in the documentation: https://pandas.pydata.org/pandas-docs/stable/user_guide/indexing.html#returning-a-view-versus-a-copy\n",
      "  df.loc[null_rows.index, f\"{word} Average number of bedrooms per dwelling\"] = null_rows[f\"{word} Average number of bedrooms per dwelling\"]\n",
      "/var/folders/qd/w0jg42cx76sc6s81d9zfb7t80000gn/T/ipykernel_1003/1411688805.py:6: SettingWithCopyWarning: \n",
      "A value is trying to be set on a copy of a slice from a DataFrame.\n",
      "Try using .loc[row_indexer,col_indexer] = value instead\n",
      "\n",
      "See the caveats in the documentation: https://pandas.pydata.org/pandas-docs/stable/user_guide/indexing.html#returning-a-view-versus-a-copy\n",
      "  null_rows[f\"{word} Average number of bedrooms per dwelling\"] = weighted_sum / total\n",
      "/var/folders/qd/w0jg42cx76sc6s81d9zfb7t80000gn/T/ipykernel_1003/1411688805.py:7: SettingWithCopyWarning: \n",
      "A value is trying to be set on a copy of a slice from a DataFrame\n",
      "\n",
      "See the caveats in the documentation: https://pandas.pydata.org/pandas-docs/stable/user_guide/indexing.html#returning-a-view-versus-a-copy\n",
      "  df.loc[null_rows.index, f\"{word} Average number of bedrooms per dwelling\"] = null_rows[f\"{word} Average number of bedrooms per dwelling\"]\n"
     ]
    }
   ],
   "source": [
    "calculating_average_bedrooms(before_df)\n",
    "calculating_average_bedrooms(after_df, False)"
   ]
  },
  {
   "cell_type": "code",
   "execution_count": 10,
   "id": "ec1c1d16-beef-4215-a061-a31bbcd70f2b",
   "metadata": {},
   "outputs": [],
   "source": [
    "cols_to_drop = before_df.filter(regex='bedrooms?$', axis=1).columns\n",
    "before_df = before_df.drop(columns = cols_to_drop)\n",
    "cols_to_drop = after_df.filter(regex='bedrooms?$', axis=1).columns\n",
    "after_df = after_df.drop(columns = cols_to_drop)"
   ]
  },
  {
   "cell_type": "code",
   "execution_count": 11,
   "id": "6c4f80de-12cf-4493-a5ab-ccc7f789735c",
   "metadata": {},
   "outputs": [],
   "source": [
    "# Remove other dwelling and other single-attached (co-linearity) \n",
    "# & remove apartment (remove bedrooms, maybe add it back again later)"
   ]
  },
  {
   "cell_type": "code",
   "execution_count": 12,
   "id": "257be264-95a7-44da-9ae8-b02cd64b0939",
   "metadata": {},
   "outputs": [],
   "source": [
    "# Do we maybe even remove Dwellings since there is collinearity?"
   ]
  },
  {
   "cell_type": "code",
   "execution_count": 13,
   "id": "eed725f3-2e69-423b-bbe7-62480901cccd",
   "metadata": {},
   "outputs": [],
   "source": [
    "before_df = before_df.drop([\"Before Apartment\", \"Before Other dwelling\", \"Before Other single-attached house\"], axis=1)\n",
    "after_df = after_df.drop([\"After Other dwelling\", \"After Other attached dwelling\", \"After Other single-attached house\"], axis=1)"
   ]
  },
  {
   "cell_type": "markdown",
   "id": "ddada422-a201-420b-b42b-ed9f2f095ae2",
   "metadata": {},
   "source": [
    "## Adding original Population"
   ]
  },
  {
   "cell_type": "code",
   "execution_count": 14,
   "id": "255b1686-ca76-4ac3-af3d-ea293db9a574",
   "metadata": {},
   "outputs": [],
   "source": [
    "# Can't even include this because there are missing values\n",
    "original_population = df[\"n_movers_out\"] + df[\"n_stayers\"]\n",
    "original_low_income_population = df[\"n_movers_out_Lowincome\"] + df[\"n_stayers_Lowincome\"]"
   ]
  },
  {
   "cell_type": "markdown",
   "id": "1fa545aa-1528-4198-9e65-9185ca7209f9",
   "metadata": {},
   "source": [
    "## Missing Values"
   ]
  },
  {
   "cell_type": "code",
   "execution_count": 15,
   "id": "e569acb8-08a6-4c11-9942-fa0987e6dd8d",
   "metadata": {},
   "outputs": [],
   "source": [
    "def impute_dwellings(df, before=True):\n",
    "    word = \"Before\" if before else \"After\"\n",
    "    df_known = df[df[f'{word} Dwellings'].notna()]\n",
    "    df_missing = df[df[f'{word} Dwellings'].isna()]\n",
    "    X_train = df_known[[f\"{word} Total Occupied Private Dwellings\", f\"{word} Owned\", f\"{word} Rented\"]]\n",
    "    y_train = df_known[f\"{word} Dwellings\"]\n",
    "    model = LinearRegression()\n",
    "    model.fit(X_train, y_train)\n",
    "    X_missing = df_missing[[f\"{word} Total Occupied Private Dwellings\", f\"{word} Owned\", f\"{word} Rented\"]]\n",
    "    y_pred = model.predict(X_missing)\n",
    "    df.loc[df[f'{word} Dwellings'].isna(), f'{word} Dwellings'] = y_pred"
   ]
  },
  {
   "cell_type": "code",
   "execution_count": 16,
   "id": "ae47a07f-ed33-4b59-b012-a9ec99186b68",
   "metadata": {},
   "outputs": [],
   "source": [
    "impute_dwellings(before_df)\n",
    "impute_dwellings(after_df, False)"
   ]
  },
  {
   "cell_type": "markdown",
   "id": "d8933c63-0c4c-4c16-a418-d5e9efb2fe48",
   "metadata": {},
   "source": [
    "## Imputing with KNN"
   ]
  },
  {
   "cell_type": "code",
   "execution_count": 17,
   "id": "3dd29ac1-844b-4ee6-a561-0a45f9d9a770",
   "metadata": {},
   "outputs": [],
   "source": [
    "from sklearn.impute import KNNImputer\n",
    "from sklearn.preprocessing import StandardScaler"
   ]
  },
  {
   "cell_type": "code",
   "execution_count": 18,
   "id": "a8920446-160f-4306-923a-624155a248e2",
   "metadata": {},
   "outputs": [],
   "source": [
    "# These aren't great, but if I get rid of it it's only 3 rows that are removed\n",
    "\n",
    "def kkn_imputation(df):\n",
    "    scaler = StandardScaler()\n",
    "    scaled_df = pd.DataFrame(scaler.fit_transform(df), columns=df.columns)\n",
    "    imputer = KNNImputer(n_neighbors=3) \n",
    "    imputed_df = pd.DataFrame(imputer.fit_transform(scaled_df), columns=scaled_df.columns)\n",
    "    return imputed_df"
   ]
  },
  {
   "cell_type": "code",
   "execution_count": 19,
   "id": "95ff355b-bfa3-4557-9a05-c49b6552429d",
   "metadata": {},
   "outputs": [],
   "source": [
    "def standardize(df):\n",
    "    scaler = StandardScaler()\n",
    "    standardized_array = scaler.fit_transform(df)\n",
    "    scaled_df = pd.DataFrame(standardized_array, columns=df.columns)\n",
    "    return scaled_df"
   ]
  },
  {
   "cell_type": "code",
   "execution_count": 20,
   "id": "625c8108-35a2-4b6a-8e70-90b04eeeca0b",
   "metadata": {},
   "outputs": [],
   "source": [
    "before_imputed = kkn_imputation(before_df)\n",
    "after_imputed = kkn_imputation(after_df)"
   ]
  },
  {
   "cell_type": "code",
   "execution_count": 21,
   "id": "06036235-7836-4cf4-a73c-a89b2d488fa4",
   "metadata": {},
   "outputs": [],
   "source": [
    "combined_df = pd.concat([before_imputed,after_imputed], axis = 1)"
   ]
  },
  {
   "cell_type": "code",
   "execution_count": 22,
   "id": "dec9f0b2-eb0d-4c3f-98eb-bc08a297a916",
   "metadata": {},
   "outputs": [],
   "source": [
    "before_imputed.columns = before_imputed.columns.str.replace(r'^\\w+\\s+', 'Change ', regex=True)\n",
    "after_imputed.columns = after_imputed.columns.str.replace(r'^\\w+\\s+', 'Change ', regex=True)"
   ]
  },
  {
   "cell_type": "code",
   "execution_count": 23,
   "id": "a3810192-e047-467b-80d1-51666b72ef2e",
   "metadata": {},
   "outputs": [],
   "source": [
    "difference_df = after_imputed - before_imputed"
   ]
  },
  {
   "cell_type": "markdown",
   "id": "8afaa252-7a26-41db-a059-0e94d7d6f4cc",
   "metadata": {},
   "source": [
    "## Preparing Training Data"
   ]
  },
  {
   "cell_type": "code",
   "execution_count": 24,
   "id": "563ad446-9b46-49a9-a4ac-9a9bd73171be",
   "metadata": {},
   "outputs": [],
   "source": [
    "combined_df[\"original_population\"] = original_population.reset_index()[0]\n",
    "combined_df[\"original_low_income_population\"] = original_low_income_population.reset_index()[0]"
   ]
  },
  {
   "cell_type": "code",
   "execution_count": 25,
   "id": "3bb035ab-46ad-4b30-b006-f9b7fbb1df24",
   "metadata": {},
   "outputs": [],
   "source": [
    "combined_df_scaled = standardize(combined_df)"
   ]
  },
  {
   "cell_type": "code",
   "execution_count": 26,
   "id": "9d5c54db-2402-4a32-bdb3-be7301ef8900",
   "metadata": {},
   "outputs": [
    {
     "data": {
      "text/plain": [
       "Index(['Before Population Density per square kilometre', 'Before Dwellings',\n",
       "       'Before Total Occupied Private Dwellings',\n",
       "       'Before Single-detached house', 'Before Semi-detached house',\n",
       "       'Before Row house', 'Before Apartment, duplex',\n",
       "       'Before Apartment, building that has fewer than five storeys',\n",
       "       'Before Apartment, building that has five or more storeys',\n",
       "       'Before Movable dwelling',\n",
       "       'Before Average number of bedrooms per dwelling', 'Before Owned',\n",
       "       'Before Rented', 'After Population Density per square kilometre',\n",
       "       'After Dwellings', 'After Total Occupied Private Dwellings',\n",
       "       'After Single-detached house', 'After Semi-detached house',\n",
       "       'After Row house', 'After Apartment, duplex',\n",
       "       'After Apartment, building that has fewer than five storeys',\n",
       "       'After Apartment, building that has five or more storeys',\n",
       "       'After Movable dwelling',\n",
       "       'After Average number of bedrooms per dwelling', 'After Owned',\n",
       "       'After Rented', 'original_population',\n",
       "       'original_low_income_population'],\n",
       "      dtype='object')"
      ]
     },
     "execution_count": 26,
     "metadata": {},
     "output_type": "execute_result"
    }
   ],
   "source": [
    "combined_df_scaled.columns"
   ]
  },
  {
   "cell_type": "code",
   "execution_count": 101,
   "id": "a0848c4d-2e8f-4625-b635-7a76a440ba2c",
   "metadata": {},
   "outputs": [],
   "source": [
    "X = combined_df_scaled"
   ]
  },
  {
   "cell_type": "code",
   "execution_count": 61,
   "id": "8a6133bb-f5a3-44d8-9e45-2b2038aa9b95",
   "metadata": {},
   "outputs": [],
   "source": [
    "X = combined_df_scaled[[\"Before Population Density per square kilometre\", \n",
    "             \"Before Dwellings\", \n",
    "             \"Before Average number of bedrooms per dwelling\", \n",
    "             \"Before Apartment, building that has five or more storeys\",\n",
    "             \"Before Total Occupied Private Dwellings\",\n",
    "             \"After Population Density per square kilometre\", \n",
    "             \"After Dwellings\", \n",
    "             \"After Average number of bedrooms per dwelling\", \n",
    "             \"After Apartment, building that has five or more storeys\",\n",
    "             \"After Total Occupied Private Dwellings\", 'original_population',\n",
    "       'original_low_income_population'\n",
    "            ]]"
   ]
  },
  {
   "cell_type": "code",
   "execution_count": 131,
   "id": "deb51937-6526-4ba8-b81a-9ab8e2d90e19",
   "metadata": {},
   "outputs": [],
   "source": [
    "# Train-test split\n",
    "X_train, X_test, y_train, y_test = train_test_split(X, y1, test_size=0.2)"
   ]
  },
  {
   "cell_type": "markdown",
   "id": "aae5158e-75ea-48fc-8d5e-df9a4d80121f",
   "metadata": {},
   "source": [
    "## XGBoost"
   ]
  },
  {
   "cell_type": "code",
   "execution_count": 132,
   "id": "79689e66-6544-4090-a769-079107e1a643",
   "metadata": {},
   "outputs": [
    {
     "name": "stdout",
     "output_type": "stream",
     "text": [
      "Mean MSE across folds: 867606255.8078516\n",
      "Mean R² across folds: 0.4738794331057875\n"
     ]
    }
   ],
   "source": [
    "kf = KFold(n_splits=5, shuffle=True)  # 5 folds\n",
    "model = XGBRegressor()\n",
    "\n",
    "mse_scores = []\n",
    "r2_scores = []\n",
    "\n",
    "for train_index, val_index in kf.split(X):\n",
    "    # Split data\n",
    "    X_train, X_val = X.iloc[train_index], X.iloc[val_index]\n",
    "    y_train, y_val = y1.iloc[train_index], y1.iloc[val_index]\n",
    "\n",
    "    # Train model\n",
    "    model.fit(X_train, y_train)\n",
    "\n",
    "    # Predict and evaluate\n",
    "    y_pred = model.predict(X_val)\n",
    "    mse = mean_squared_error(y_val, y_pred)\n",
    "    r2 = r2_score(y_val, y_pred)\n",
    "    mse_scores.append(mse)\n",
    "    r2_scores.append(r2)\n",
    "\n",
    "print(\"Mean MSE across folds:\", sum(mse_scores) / len(mse_scores))\n",
    "print(\"Mean R² across folds:\", sum(r2_scores) / len(r2_scores))"
   ]
  },
  {
   "cell_type": "code",
   "execution_count": 133,
   "id": "3547e409-0097-42bd-a8c6-a91b37356b2f",
   "metadata": {},
   "outputs": [
    {
     "data": {
      "text/html": [
       "<style>#sk-container-id-19 {\n",
       "  /* Definition of color scheme common for light and dark mode */\n",
       "  --sklearn-color-text: #000;\n",
       "  --sklearn-color-text-muted: #666;\n",
       "  --sklearn-color-line: gray;\n",
       "  /* Definition of color scheme for unfitted estimators */\n",
       "  --sklearn-color-unfitted-level-0: #fff5e6;\n",
       "  --sklearn-color-unfitted-level-1: #f6e4d2;\n",
       "  --sklearn-color-unfitted-level-2: #ffe0b3;\n",
       "  --sklearn-color-unfitted-level-3: chocolate;\n",
       "  /* Definition of color scheme for fitted estimators */\n",
       "  --sklearn-color-fitted-level-0: #f0f8ff;\n",
       "  --sklearn-color-fitted-level-1: #d4ebff;\n",
       "  --sklearn-color-fitted-level-2: #b3dbfd;\n",
       "  --sklearn-color-fitted-level-3: cornflowerblue;\n",
       "\n",
       "  /* Specific color for light theme */\n",
       "  --sklearn-color-text-on-default-background: var(--sg-text-color, var(--theme-code-foreground, var(--jp-content-font-color1, black)));\n",
       "  --sklearn-color-background: var(--sg-background-color, var(--theme-background, var(--jp-layout-color0, white)));\n",
       "  --sklearn-color-border-box: var(--sg-text-color, var(--theme-code-foreground, var(--jp-content-font-color1, black)));\n",
       "  --sklearn-color-icon: #696969;\n",
       "\n",
       "  @media (prefers-color-scheme: dark) {\n",
       "    /* Redefinition of color scheme for dark theme */\n",
       "    --sklearn-color-text-on-default-background: var(--sg-text-color, var(--theme-code-foreground, var(--jp-content-font-color1, white)));\n",
       "    --sklearn-color-background: var(--sg-background-color, var(--theme-background, var(--jp-layout-color0, #111)));\n",
       "    --sklearn-color-border-box: var(--sg-text-color, var(--theme-code-foreground, var(--jp-content-font-color1, white)));\n",
       "    --sklearn-color-icon: #878787;\n",
       "  }\n",
       "}\n",
       "\n",
       "#sk-container-id-19 {\n",
       "  color: var(--sklearn-color-text);\n",
       "}\n",
       "\n",
       "#sk-container-id-19 pre {\n",
       "  padding: 0;\n",
       "}\n",
       "\n",
       "#sk-container-id-19 input.sk-hidden--visually {\n",
       "  border: 0;\n",
       "  clip: rect(1px 1px 1px 1px);\n",
       "  clip: rect(1px, 1px, 1px, 1px);\n",
       "  height: 1px;\n",
       "  margin: -1px;\n",
       "  overflow: hidden;\n",
       "  padding: 0;\n",
       "  position: absolute;\n",
       "  width: 1px;\n",
       "}\n",
       "\n",
       "#sk-container-id-19 div.sk-dashed-wrapped {\n",
       "  border: 1px dashed var(--sklearn-color-line);\n",
       "  margin: 0 0.4em 0.5em 0.4em;\n",
       "  box-sizing: border-box;\n",
       "  padding-bottom: 0.4em;\n",
       "  background-color: var(--sklearn-color-background);\n",
       "}\n",
       "\n",
       "#sk-container-id-19 div.sk-container {\n",
       "  /* jupyter's `normalize.less` sets `[hidden] { display: none; }`\n",
       "     but bootstrap.min.css set `[hidden] { display: none !important; }`\n",
       "     so we also need the `!important` here to be able to override the\n",
       "     default hidden behavior on the sphinx rendered scikit-learn.org.\n",
       "     See: https://github.com/scikit-learn/scikit-learn/issues/21755 */\n",
       "  display: inline-block !important;\n",
       "  position: relative;\n",
       "}\n",
       "\n",
       "#sk-container-id-19 div.sk-text-repr-fallback {\n",
       "  display: none;\n",
       "}\n",
       "\n",
       "div.sk-parallel-item,\n",
       "div.sk-serial,\n",
       "div.sk-item {\n",
       "  /* draw centered vertical line to link estimators */\n",
       "  background-image: linear-gradient(var(--sklearn-color-text-on-default-background), var(--sklearn-color-text-on-default-background));\n",
       "  background-size: 2px 100%;\n",
       "  background-repeat: no-repeat;\n",
       "  background-position: center center;\n",
       "}\n",
       "\n",
       "/* Parallel-specific style estimator block */\n",
       "\n",
       "#sk-container-id-19 div.sk-parallel-item::after {\n",
       "  content: \"\";\n",
       "  width: 100%;\n",
       "  border-bottom: 2px solid var(--sklearn-color-text-on-default-background);\n",
       "  flex-grow: 1;\n",
       "}\n",
       "\n",
       "#sk-container-id-19 div.sk-parallel {\n",
       "  display: flex;\n",
       "  align-items: stretch;\n",
       "  justify-content: center;\n",
       "  background-color: var(--sklearn-color-background);\n",
       "  position: relative;\n",
       "}\n",
       "\n",
       "#sk-container-id-19 div.sk-parallel-item {\n",
       "  display: flex;\n",
       "  flex-direction: column;\n",
       "}\n",
       "\n",
       "#sk-container-id-19 div.sk-parallel-item:first-child::after {\n",
       "  align-self: flex-end;\n",
       "  width: 50%;\n",
       "}\n",
       "\n",
       "#sk-container-id-19 div.sk-parallel-item:last-child::after {\n",
       "  align-self: flex-start;\n",
       "  width: 50%;\n",
       "}\n",
       "\n",
       "#sk-container-id-19 div.sk-parallel-item:only-child::after {\n",
       "  width: 0;\n",
       "}\n",
       "\n",
       "/* Serial-specific style estimator block */\n",
       "\n",
       "#sk-container-id-19 div.sk-serial {\n",
       "  display: flex;\n",
       "  flex-direction: column;\n",
       "  align-items: center;\n",
       "  background-color: var(--sklearn-color-background);\n",
       "  padding-right: 1em;\n",
       "  padding-left: 1em;\n",
       "}\n",
       "\n",
       "\n",
       "/* Toggleable style: style used for estimator/Pipeline/ColumnTransformer box that is\n",
       "clickable and can be expanded/collapsed.\n",
       "- Pipeline and ColumnTransformer use this feature and define the default style\n",
       "- Estimators will overwrite some part of the style using the `sk-estimator` class\n",
       "*/\n",
       "\n",
       "/* Pipeline and ColumnTransformer style (default) */\n",
       "\n",
       "#sk-container-id-19 div.sk-toggleable {\n",
       "  /* Default theme specific background. It is overwritten whether we have a\n",
       "  specific estimator or a Pipeline/ColumnTransformer */\n",
       "  background-color: var(--sklearn-color-background);\n",
       "}\n",
       "\n",
       "/* Toggleable label */\n",
       "#sk-container-id-19 label.sk-toggleable__label {\n",
       "  cursor: pointer;\n",
       "  display: flex;\n",
       "  width: 100%;\n",
       "  margin-bottom: 0;\n",
       "  padding: 0.5em;\n",
       "  box-sizing: border-box;\n",
       "  text-align: center;\n",
       "  align-items: start;\n",
       "  justify-content: space-between;\n",
       "  gap: 0.5em;\n",
       "}\n",
       "\n",
       "#sk-container-id-19 label.sk-toggleable__label .caption {\n",
       "  font-size: 0.6rem;\n",
       "  font-weight: lighter;\n",
       "  color: var(--sklearn-color-text-muted);\n",
       "}\n",
       "\n",
       "#sk-container-id-19 label.sk-toggleable__label-arrow:before {\n",
       "  /* Arrow on the left of the label */\n",
       "  content: \"▸\";\n",
       "  float: left;\n",
       "  margin-right: 0.25em;\n",
       "  color: var(--sklearn-color-icon);\n",
       "}\n",
       "\n",
       "#sk-container-id-19 label.sk-toggleable__label-arrow:hover:before {\n",
       "  color: var(--sklearn-color-text);\n",
       "}\n",
       "\n",
       "/* Toggleable content - dropdown */\n",
       "\n",
       "#sk-container-id-19 div.sk-toggleable__content {\n",
       "  max-height: 0;\n",
       "  max-width: 0;\n",
       "  overflow: hidden;\n",
       "  text-align: left;\n",
       "  /* unfitted */\n",
       "  background-color: var(--sklearn-color-unfitted-level-0);\n",
       "}\n",
       "\n",
       "#sk-container-id-19 div.sk-toggleable__content.fitted {\n",
       "  /* fitted */\n",
       "  background-color: var(--sklearn-color-fitted-level-0);\n",
       "}\n",
       "\n",
       "#sk-container-id-19 div.sk-toggleable__content pre {\n",
       "  margin: 0.2em;\n",
       "  border-radius: 0.25em;\n",
       "  color: var(--sklearn-color-text);\n",
       "  /* unfitted */\n",
       "  background-color: var(--sklearn-color-unfitted-level-0);\n",
       "}\n",
       "\n",
       "#sk-container-id-19 div.sk-toggleable__content.fitted pre {\n",
       "  /* unfitted */\n",
       "  background-color: var(--sklearn-color-fitted-level-0);\n",
       "}\n",
       "\n",
       "#sk-container-id-19 input.sk-toggleable__control:checked~div.sk-toggleable__content {\n",
       "  /* Expand drop-down */\n",
       "  max-height: 200px;\n",
       "  max-width: 100%;\n",
       "  overflow: auto;\n",
       "}\n",
       "\n",
       "#sk-container-id-19 input.sk-toggleable__control:checked~label.sk-toggleable__label-arrow:before {\n",
       "  content: \"▾\";\n",
       "}\n",
       "\n",
       "/* Pipeline/ColumnTransformer-specific style */\n",
       "\n",
       "#sk-container-id-19 div.sk-label input.sk-toggleable__control:checked~label.sk-toggleable__label {\n",
       "  color: var(--sklearn-color-text);\n",
       "  background-color: var(--sklearn-color-unfitted-level-2);\n",
       "}\n",
       "\n",
       "#sk-container-id-19 div.sk-label.fitted input.sk-toggleable__control:checked~label.sk-toggleable__label {\n",
       "  background-color: var(--sklearn-color-fitted-level-2);\n",
       "}\n",
       "\n",
       "/* Estimator-specific style */\n",
       "\n",
       "/* Colorize estimator box */\n",
       "#sk-container-id-19 div.sk-estimator input.sk-toggleable__control:checked~label.sk-toggleable__label {\n",
       "  /* unfitted */\n",
       "  background-color: var(--sklearn-color-unfitted-level-2);\n",
       "}\n",
       "\n",
       "#sk-container-id-19 div.sk-estimator.fitted input.sk-toggleable__control:checked~label.sk-toggleable__label {\n",
       "  /* fitted */\n",
       "  background-color: var(--sklearn-color-fitted-level-2);\n",
       "}\n",
       "\n",
       "#sk-container-id-19 div.sk-label label.sk-toggleable__label,\n",
       "#sk-container-id-19 div.sk-label label {\n",
       "  /* The background is the default theme color */\n",
       "  color: var(--sklearn-color-text-on-default-background);\n",
       "}\n",
       "\n",
       "/* On hover, darken the color of the background */\n",
       "#sk-container-id-19 div.sk-label:hover label.sk-toggleable__label {\n",
       "  color: var(--sklearn-color-text);\n",
       "  background-color: var(--sklearn-color-unfitted-level-2);\n",
       "}\n",
       "\n",
       "/* Label box, darken color on hover, fitted */\n",
       "#sk-container-id-19 div.sk-label.fitted:hover label.sk-toggleable__label.fitted {\n",
       "  color: var(--sklearn-color-text);\n",
       "  background-color: var(--sklearn-color-fitted-level-2);\n",
       "}\n",
       "\n",
       "/* Estimator label */\n",
       "\n",
       "#sk-container-id-19 div.sk-label label {\n",
       "  font-family: monospace;\n",
       "  font-weight: bold;\n",
       "  display: inline-block;\n",
       "  line-height: 1.2em;\n",
       "}\n",
       "\n",
       "#sk-container-id-19 div.sk-label-container {\n",
       "  text-align: center;\n",
       "}\n",
       "\n",
       "/* Estimator-specific */\n",
       "#sk-container-id-19 div.sk-estimator {\n",
       "  font-family: monospace;\n",
       "  border: 1px dotted var(--sklearn-color-border-box);\n",
       "  border-radius: 0.25em;\n",
       "  box-sizing: border-box;\n",
       "  margin-bottom: 0.5em;\n",
       "  /* unfitted */\n",
       "  background-color: var(--sklearn-color-unfitted-level-0);\n",
       "}\n",
       "\n",
       "#sk-container-id-19 div.sk-estimator.fitted {\n",
       "  /* fitted */\n",
       "  background-color: var(--sklearn-color-fitted-level-0);\n",
       "}\n",
       "\n",
       "/* on hover */\n",
       "#sk-container-id-19 div.sk-estimator:hover {\n",
       "  /* unfitted */\n",
       "  background-color: var(--sklearn-color-unfitted-level-2);\n",
       "}\n",
       "\n",
       "#sk-container-id-19 div.sk-estimator.fitted:hover {\n",
       "  /* fitted */\n",
       "  background-color: var(--sklearn-color-fitted-level-2);\n",
       "}\n",
       "\n",
       "/* Specification for estimator info (e.g. \"i\" and \"?\") */\n",
       "\n",
       "/* Common style for \"i\" and \"?\" */\n",
       "\n",
       ".sk-estimator-doc-link,\n",
       "a:link.sk-estimator-doc-link,\n",
       "a:visited.sk-estimator-doc-link {\n",
       "  float: right;\n",
       "  font-size: smaller;\n",
       "  line-height: 1em;\n",
       "  font-family: monospace;\n",
       "  background-color: var(--sklearn-color-background);\n",
       "  border-radius: 1em;\n",
       "  height: 1em;\n",
       "  width: 1em;\n",
       "  text-decoration: none !important;\n",
       "  margin-left: 0.5em;\n",
       "  text-align: center;\n",
       "  /* unfitted */\n",
       "  border: var(--sklearn-color-unfitted-level-1) 1pt solid;\n",
       "  color: var(--sklearn-color-unfitted-level-1);\n",
       "}\n",
       "\n",
       ".sk-estimator-doc-link.fitted,\n",
       "a:link.sk-estimator-doc-link.fitted,\n",
       "a:visited.sk-estimator-doc-link.fitted {\n",
       "  /* fitted */\n",
       "  border: var(--sklearn-color-fitted-level-1) 1pt solid;\n",
       "  color: var(--sklearn-color-fitted-level-1);\n",
       "}\n",
       "\n",
       "/* On hover */\n",
       "div.sk-estimator:hover .sk-estimator-doc-link:hover,\n",
       ".sk-estimator-doc-link:hover,\n",
       "div.sk-label-container:hover .sk-estimator-doc-link:hover,\n",
       ".sk-estimator-doc-link:hover {\n",
       "  /* unfitted */\n",
       "  background-color: var(--sklearn-color-unfitted-level-3);\n",
       "  color: var(--sklearn-color-background);\n",
       "  text-decoration: none;\n",
       "}\n",
       "\n",
       "div.sk-estimator.fitted:hover .sk-estimator-doc-link.fitted:hover,\n",
       ".sk-estimator-doc-link.fitted:hover,\n",
       "div.sk-label-container:hover .sk-estimator-doc-link.fitted:hover,\n",
       ".sk-estimator-doc-link.fitted:hover {\n",
       "  /* fitted */\n",
       "  background-color: var(--sklearn-color-fitted-level-3);\n",
       "  color: var(--sklearn-color-background);\n",
       "  text-decoration: none;\n",
       "}\n",
       "\n",
       "/* Span, style for the box shown on hovering the info icon */\n",
       ".sk-estimator-doc-link span {\n",
       "  display: none;\n",
       "  z-index: 9999;\n",
       "  position: relative;\n",
       "  font-weight: normal;\n",
       "  right: .2ex;\n",
       "  padding: .5ex;\n",
       "  margin: .5ex;\n",
       "  width: min-content;\n",
       "  min-width: 20ex;\n",
       "  max-width: 50ex;\n",
       "  color: var(--sklearn-color-text);\n",
       "  box-shadow: 2pt 2pt 4pt #999;\n",
       "  /* unfitted */\n",
       "  background: var(--sklearn-color-unfitted-level-0);\n",
       "  border: .5pt solid var(--sklearn-color-unfitted-level-3);\n",
       "}\n",
       "\n",
       ".sk-estimator-doc-link.fitted span {\n",
       "  /* fitted */\n",
       "  background: var(--sklearn-color-fitted-level-0);\n",
       "  border: var(--sklearn-color-fitted-level-3);\n",
       "}\n",
       "\n",
       ".sk-estimator-doc-link:hover span {\n",
       "  display: block;\n",
       "}\n",
       "\n",
       "/* \"?\"-specific style due to the `<a>` HTML tag */\n",
       "\n",
       "#sk-container-id-19 a.estimator_doc_link {\n",
       "  float: right;\n",
       "  font-size: 1rem;\n",
       "  line-height: 1em;\n",
       "  font-family: monospace;\n",
       "  background-color: var(--sklearn-color-background);\n",
       "  border-radius: 1rem;\n",
       "  height: 1rem;\n",
       "  width: 1rem;\n",
       "  text-decoration: none;\n",
       "  /* unfitted */\n",
       "  color: var(--sklearn-color-unfitted-level-1);\n",
       "  border: var(--sklearn-color-unfitted-level-1) 1pt solid;\n",
       "}\n",
       "\n",
       "#sk-container-id-19 a.estimator_doc_link.fitted {\n",
       "  /* fitted */\n",
       "  border: var(--sklearn-color-fitted-level-1) 1pt solid;\n",
       "  color: var(--sklearn-color-fitted-level-1);\n",
       "}\n",
       "\n",
       "/* On hover */\n",
       "#sk-container-id-19 a.estimator_doc_link:hover {\n",
       "  /* unfitted */\n",
       "  background-color: var(--sklearn-color-unfitted-level-3);\n",
       "  color: var(--sklearn-color-background);\n",
       "  text-decoration: none;\n",
       "}\n",
       "\n",
       "#sk-container-id-19 a.estimator_doc_link.fitted:hover {\n",
       "  /* fitted */\n",
       "  background-color: var(--sklearn-color-fitted-level-3);\n",
       "}\n",
       "</style><div id=\"sk-container-id-19\" class=\"sk-top-container\"><div class=\"sk-text-repr-fallback\"><pre>XGBRegressor(base_score=None, booster=None, callbacks=None,\n",
       "             colsample_bylevel=None, colsample_bynode=None,\n",
       "             colsample_bytree=None, device=None, early_stopping_rounds=None,\n",
       "             enable_categorical=False, eval_metric=None, feature_types=None,\n",
       "             feature_weights=None, gamma=None, grow_policy=None,\n",
       "             importance_type=None, interaction_constraints=None,\n",
       "             learning_rate=None, max_bin=None, max_cat_threshold=None,\n",
       "             max_cat_to_onehot=None, max_delta_step=None, max_depth=None,\n",
       "             max_leaves=None, min_child_weight=None, missing=nan,\n",
       "             monotone_constraints=None, multi_strategy=None, n_estimators=None,\n",
       "             n_jobs=None, num_parallel_tree=None, ...)</pre><b>In a Jupyter environment, please rerun this cell to show the HTML representation or trust the notebook. <br />On GitHub, the HTML representation is unable to render, please try loading this page with nbviewer.org.</b></div><div class=\"sk-container\" hidden><div class=\"sk-item\"><div class=\"sk-estimator fitted sk-toggleable\"><input class=\"sk-toggleable__control sk-hidden--visually\" id=\"sk-estimator-id-19\" type=\"checkbox\" checked><label for=\"sk-estimator-id-19\" class=\"sk-toggleable__label fitted sk-toggleable__label-arrow\"><div><div>XGBRegressor</div></div><div><a class=\"sk-estimator-doc-link fitted\" rel=\"noreferrer\" target=\"_blank\" href=\"https://xgboost.readthedocs.io/en/release_3.0.0/python/python_api.html#xgboost.XGBRegressor\">?<span>Documentation for XGBRegressor</span></a><span class=\"sk-estimator-doc-link fitted\">i<span>Fitted</span></span></div></label><div class=\"sk-toggleable__content fitted\"><pre>XGBRegressor(base_score=None, booster=None, callbacks=None,\n",
       "             colsample_bylevel=None, colsample_bynode=None,\n",
       "             colsample_bytree=None, device=None, early_stopping_rounds=None,\n",
       "             enable_categorical=False, eval_metric=None, feature_types=None,\n",
       "             feature_weights=None, gamma=None, grow_policy=None,\n",
       "             importance_type=None, interaction_constraints=None,\n",
       "             learning_rate=None, max_bin=None, max_cat_threshold=None,\n",
       "             max_cat_to_onehot=None, max_delta_step=None, max_depth=None,\n",
       "             max_leaves=None, min_child_weight=None, missing=nan,\n",
       "             monotone_constraints=None, multi_strategy=None, n_estimators=None,\n",
       "             n_jobs=None, num_parallel_tree=None, ...)</pre></div> </div></div></div></div>"
      ],
      "text/plain": [
       "XGBRegressor(base_score=None, booster=None, callbacks=None,\n",
       "             colsample_bylevel=None, colsample_bynode=None,\n",
       "             colsample_bytree=None, device=None, early_stopping_rounds=None,\n",
       "             enable_categorical=False, eval_metric=None, feature_types=None,\n",
       "             feature_weights=None, gamma=None, grow_policy=None,\n",
       "             importance_type=None, interaction_constraints=None,\n",
       "             learning_rate=None, max_bin=None, max_cat_threshold=None,\n",
       "             max_cat_to_onehot=None, max_delta_step=None, max_depth=None,\n",
       "             max_leaves=None, min_child_weight=None, missing=nan,\n",
       "             monotone_constraints=None, multi_strategy=None, n_estimators=None,\n",
       "             n_jobs=None, num_parallel_tree=None, ...)"
      ]
     },
     "execution_count": 133,
     "metadata": {},
     "output_type": "execute_result"
    }
   ],
   "source": [
    "model_xgb = XGBRegressor()\n",
    "model_xgb.fit(X_train, y_train)"
   ]
  },
  {
   "cell_type": "code",
   "execution_count": 134,
   "id": "e5159478-223c-42c2-9bd2-3838c1241ec8",
   "metadata": {},
   "outputs": [],
   "source": [
    "y_pred = model_xgb.predict(X_test)"
   ]
  },
  {
   "cell_type": "code",
   "execution_count": 135,
   "id": "3851391c-6440-4b15-aea6-cfc14b32edc7",
   "metadata": {},
   "outputs": [
    {
     "name": "stdout",
     "output_type": "stream",
     "text": [
      "Mean Squared Error (MSE): 48781746.008068435\n",
      "R² Score: 0.9619217486643684\n"
     ]
    }
   ],
   "source": [
    "mse = mean_squared_error(y_test, y_pred)\n",
    "r2 = r2_score(y_test, y_pred)\n",
    "\n",
    "print(\"Mean Squared Error (MSE):\", mse)\n",
    "print(\"R² Score:\", r2)"
   ]
  },
  {
   "cell_type": "markdown",
   "id": "c25ccbac-dccd-4256-906d-82fbf6976206",
   "metadata": {},
   "source": [
    "## Secondary EDA"
   ]
  },
  {
   "cell_type": "markdown",
   "id": "c0267db8-d6bb-4344-a744-43b29c5c2604",
   "metadata": {},
   "source": [
    "## Simpler Regression"
   ]
  },
  {
   "cell_type": "code",
   "execution_count": null,
   "id": "00d862c8-a8c7-42a9-ac5c-b10880713210",
   "metadata": {},
   "outputs": [],
   "source": []
  }
 ],
 "metadata": {
  "kernelspec": {
   "display_name": "Python 3 (ipykernel)",
   "language": "python",
   "name": "python3"
  },
  "language_info": {
   "codemirror_mode": {
    "name": "ipython",
    "version": 3
   },
   "file_extension": ".py",
   "mimetype": "text/x-python",
   "name": "python",
   "nbconvert_exporter": "python",
   "pygments_lexer": "ipython3",
   "version": "3.13.5"
  }
 },
 "nbformat": 4,
 "nbformat_minor": 5
}
