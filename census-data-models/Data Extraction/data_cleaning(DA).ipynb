{
 "cells": [
  {
   "cell_type": "code",
   "execution_count": 5,
   "id": "6feaacaa-ea18-43cf-becd-671c76f1aafb",
   "metadata": {},
   "outputs": [],
   "source": [
    "import pandas as pd\n",
    "import numpy as np\n",
    "import re"
   ]
  },
  {
   "cell_type": "code",
   "execution_count": 6,
   "id": "2a712f30-44b3-4fd4-9e6b-01c3b031ffcc",
   "metadata": {},
   "outputs": [],
   "source": [
    "# Toronto = 35535\n",
    "# Calgary = 48825\n",
    "# Edmonton = 48835\n",
    "# Montreal = 24462\n",
    "# Vancouver = 59933"
   ]
  },
  {
   "cell_type": "code",
   "execution_count": 13,
   "id": "2a016b0a-dcaa-467c-bfd7-57890587fcfd",
   "metadata": {},
   "outputs": [],
   "source": [
    "# Load all the data\n",
    "da2021 = pd.read_csv(\"../../data_raw/DA_data/2001_da.csv\")\n",
    "da2016 = pd.read_csv(\"../../data_raw/DA_data/2016_da.csv\")\n",
    "da2011 = pd.read_csv(\"../../data_raw/DA_data/2011_da.csv\")\n",
    "da2006 = pd.read_csv(\"../../data_raw/DA_data/2006_da.csv\")\n",
    "da2001 = pd.read_csv(\"../../data_raw/DA_data/2001_da.csv\")"
   ]
  },
  {
   "cell_type": "code",
   "execution_count": 4,
   "id": "820c3720-6994-4cd4-8f50-3c9794b013ed",
   "metadata": {},
   "outputs": [],
   "source": [
    "def get_locations(df):\n",
    "    \"\"\" \n",
    "    Keeps only the data from the relevant areas\n",
    "    \"\"\"\n",
    "    return_df = df.copy()\n",
    "    return_df = return_df[return_df[\"CMA_UID\"].isin([35535, 48825, 48835, 24462, 59933])]\n",
    "    return return_df"
   ]
  },
  {
   "cell_type": "code",
   "execution_count": 5,
   "id": "81a91ee0-0b99-4aee-a49e-bb6ac5fb2318",
   "metadata": {},
   "outputs": [],
   "source": [
    "def simplify_col_names(data):\n",
    "    \"\"\"\n",
    "    Use this to remove the code from all the column names\n",
    "    Saves the data inplace\n",
    "    \"\"\"\n",
    "    data.columns = [col.split(\": \", 1)[1] if \": \" in col else col for col in data.columns]"
   ]
  },
  {
   "cell_type": "code",
   "execution_count": 6,
   "id": "04359c63-8ace-40e8-946a-8429080e46a4",
   "metadata": {},
   "outputs": [],
   "source": [
    "da2021 = get_locations(da2021)\n",
    "da2016 = get_locations(da2016)\n",
    "da2011 = get_locations(da2011)\n",
    "da2006 = get_locations(da2006)\n",
    "da2001 = get_locations(da2001)"
   ]
  },
  {
   "cell_type": "markdown",
   "id": "dbf721a7-26ee-4855-a003-c858a2ffc71a",
   "metadata": {},
   "source": [
    "## 2021 Census Data"
   ]
  },
  {
   "cell_type": "code",
   "execution_count": 7,
   "id": "41a4f16c-4a74-4cbe-a076-6ca2e2f8cccd",
   "metadata": {},
   "outputs": [],
   "source": [
    "# da2021.columns"
   ]
  },
  {
   "cell_type": "code",
   "execution_count": 8,
   "id": "972e6913-70dd-4666-9eb2-fd995955064e",
   "metadata": {},
   "outputs": [],
   "source": [
    "# da2021.columns\n",
    "col2021 = ['GeoUID', \"CMA_UID\", 'v_CA21_6: Population density per square kilometre', 'Dwellings',\n",
    "       'v_CA21_434: Occupied private dwellings by structural type of dwelling data',\n",
    "       'v_CA21_435: Single-detached house', 'v_CA21_436: Semi-detached house',\n",
    "       'v_CA21_437: Row house', 'v_CA21_438: Apartment or flat in a duplex',\n",
    "       'v_CA21_439: Apartment in a building that has fewer than five storeys',\n",
    "       'v_CA21_440: Apartment in a building that has five or more storeys',\n",
    "       'v_CA21_441: Other single-attached house',\n",
    "       'v_CA21_442: Movable dwelling', 'v_CA21_4245: No bedrooms',\n",
    "       'v_CA21_4246: 1 bedroom', 'v_CA21_4247: 2 bedrooms',\n",
    "       'v_CA21_4248: 3 bedrooms', 'v_CA21_4249: 4 or more bedrooms',\n",
    "       'v_CA21_4238: Owner', 'v_CA21_4239: Renter']"
   ]
  },
  {
   "cell_type": "code",
   "execution_count": 9,
   "id": "284f9bfc-e3ff-427a-934f-c9719a9a4600",
   "metadata": {},
   "outputs": [],
   "source": [
    "da2021 = da2021[col2021]"
   ]
  },
  {
   "cell_type": "markdown",
   "id": "95ea0e55-a222-45e1-8683-706c082ef737",
   "metadata": {},
   "source": [
    "## 2016 Census Data"
   ]
  },
  {
   "cell_type": "code",
   "execution_count": 10,
   "id": "d8316da6-73a5-451b-8ac8-1fbf40b89166",
   "metadata": {},
   "outputs": [],
   "source": [
    "# da2016.columns"
   ]
  },
  {
   "cell_type": "code",
   "execution_count": 11,
   "id": "0d6dae86-59b0-410d-9978-6893869d4257",
   "metadata": {},
   "outputs": [],
   "source": [
    "col2016 = ['GeoUID', \"CMA_UID\", 'v_CA16_406: Population density per square kilometre', 'Dwellings', \n",
    "       'v_CA16_408: Occupied private dwellings by structural type of dwelling data',\n",
    "       'v_CA16_409: Single-detached house', 'v_CA16_412: Semi-detached house',\n",
    "       'v_CA16_413: Row house', 'v_CA16_414: Apartment or flat in a duplex',\n",
    "       'v_CA16_415: Apartment in a building that has fewer than five storeys',\n",
    "       'v_CA16_410: Apartment in a building that has five or more storeys',\n",
    "       'v_CA16_411: Other attached dwelling',\n",
    "       'v_CA16_416: Other single-attached house',\n",
    "       'v_CA16_417: Movable dwelling', 'v_CA16_4844: No bedrooms',\n",
    "       'v_CA16_4845: 1 bedroom', 'v_CA16_4846: 2 bedrooms',\n",
    "       'v_CA16_4847: 3 bedrooms', 'v_CA16_4848: 4 or more bedrooms',\n",
    "       'v_CA16_4837: Owner', 'v_CA16_4838: Renter']"
   ]
  },
  {
   "cell_type": "code",
   "execution_count": 12,
   "id": "817fd9f3-88b6-42bc-a407-5e66e5ba1ff3",
   "metadata": {},
   "outputs": [],
   "source": [
    "da2016 = da2016[col2016]"
   ]
  },
  {
   "cell_type": "markdown",
   "id": "684bf31d-02c4-4ebf-b41c-8c24adf25602",
   "metadata": {},
   "source": [
    "## 2011 Census Data"
   ]
  },
  {
   "cell_type": "code",
   "execution_count": 13,
   "id": "1c21323d-6388-4a54-96a2-d20c8cbc536a",
   "metadata": {},
   "outputs": [],
   "source": [
    "# da2011.columns"
   ]
  },
  {
   "cell_type": "code",
   "execution_count": 14,
   "id": "b6ba93be-4023-42fa-b2aa-1f333f0ec854",
   "metadata": {},
   "outputs": [],
   "source": [
    "da2011[\"Population Density per square kilometre\"] = da2011[\"Population\"] / da2011[\"Area (sq km)\"]"
   ]
  },
  {
   "cell_type": "code",
   "execution_count": 15,
   "id": "1cf0fa0c-a4ef-4c2e-b6c8-4bcbb98c84f2",
   "metadata": {},
   "outputs": [],
   "source": [
    "col2011 = ['GeoUID', \"CMA_UID\", 'Population Density per square kilometre', \n",
    "       'Dwellings',\n",
    "       'v_CA11F_199: Total number of occupied private dwellings by structural type of dwelling',\n",
    "       'v_CA11F_200: Single-detached house',\n",
    "       'v_CA11F_204: Semi-detached house', 'v_CA11F_205: Row house',\n",
    "       'v_CA11F_206: Apartment, duplex',\n",
    "       'v_CA11F_207: Apartment, building that has fewer than five storeys',\n",
    "       'v_CA11F_201: Apartment, building that has five or more storeys',\n",
    "       'v_CA11F_203: Other dwelling',\n",
    "       'v_CA11F_208: Other single-attached house',\n",
    "       'v_CA11F_202: Movable dwelling', 'v_CA11N_2248: 0 to 1 bedroom',\n",
    "       'v_CA11N_2249: 2 bedrooms', 'v_CA11N_2250: 3 bedrooms',\n",
    "       'v_CA11N_2251: 4 or more bedrooms', 'v_CA11N_2253: Owner',\n",
    "       'v_CA11N_2254: Renter', ]"
   ]
  },
  {
   "cell_type": "code",
   "execution_count": 16,
   "id": "1a08665f-bab7-4482-92b6-0794c3c077ed",
   "metadata": {},
   "outputs": [],
   "source": [
    "da2011 = da2011[col2011]"
   ]
  },
  {
   "cell_type": "markdown",
   "id": "21f353be-fc77-4b03-8c5e-801ae5399fdd",
   "metadata": {},
   "source": [
    "## 2006 Census Data"
   ]
  },
  {
   "cell_type": "code",
   "execution_count": 17,
   "id": "efad467d-f6d0-4182-848d-0a400773cc57",
   "metadata": {},
   "outputs": [],
   "source": [
    "da2006[\"Population Density per square kilometre\"] = da2006[\"Population\"] / da2006[\"Area (sq km)\"]"
   ]
  },
  {
   "cell_type": "code",
   "execution_count": 18,
   "id": "d11fcfce-a666-42bf-bea2-3ed407f69919",
   "metadata": {},
   "outputs": [],
   "source": [
    "# da2006.columns"
   ]
  },
  {
   "cell_type": "code",
   "execution_count": 19,
   "id": "2487a7a3-2d6c-4878-8320-f9881a2b4780",
   "metadata": {},
   "outputs": [],
   "source": [
    "col2006 = ['GeoUID',\"CMA_UID\",'Population Density per square kilometre',\n",
    "       'Dwellings',\n",
    "       'v_CA06_119: Total number of occupied private dwellings by structural type of dwelling - 100% data',\n",
    "       'v_CA06_120: Single-detached house', 'v_CA06_121: Semi-detached house',\n",
    "       'v_CA06_122: Row house', 'v_CA06_123: Apartment, duplex',\n",
    "       'v_CA06_124: Apartment, building that has five or more storeys',\n",
    "       'v_CA06_125: Apartment, building that has fewer than five storeys',\n",
    "       'v_CA06_126: Other single-attached house',\n",
    "       'v_CA06_127: Movable dwelling', \n",
    "       'v_CA06_100: Average number of bedrooms per dwelling',\n",
    "       'v_CA06_102: Owned',\n",
    "       'v_CA06_103: Rented'\n",
    "       ]"
   ]
  },
  {
   "cell_type": "code",
   "execution_count": 20,
   "id": "e558a0f9-62bf-44ac-944e-0b3e3bd82db0",
   "metadata": {},
   "outputs": [],
   "source": [
    "da2006 = da2006[col2006]"
   ]
  },
  {
   "cell_type": "markdown",
   "id": "5e8a3f5a-82a1-4f1b-811a-3e799d2516c6",
   "metadata": {},
   "source": [
    "## 2001 Census Data"
   ]
  },
  {
   "cell_type": "code",
   "execution_count": 21,
   "id": "7ab13722-1980-4ac4-980a-6ffc4ebc262c",
   "metadata": {},
   "outputs": [],
   "source": [
    "da2001[\"Population Density per square kilometre\"] = da2001[\"Population\"] / da2001[\"Area (sq km)\"]"
   ]
  },
  {
   "cell_type": "code",
   "execution_count": 22,
   "id": "29c68aea-0fc0-4050-b3fb-f9fa97877662",
   "metadata": {},
   "outputs": [],
   "source": [
    "# da2001.columns"
   ]
  },
  {
   "cell_type": "code",
   "execution_count": 23,
   "id": "48b11f66-ab3c-459a-8930-519f42ce6cee",
   "metadata": {},
   "outputs": [],
   "source": [
    "col2001 = ['GeoUID', \"CMA_UID\", 'Population Density per square kilometre',\n",
    "       'Dwellings', \n",
    "       'v_CA01_112: Total number of occupied private dwellings by structural type of dwelling',\n",
    "       'v_CA01_113: Single-detached house', 'v_CA01_114: Semi-detached house',\n",
    "       'v_CA01_115: Row house', 'v_CA01_116: Apartment, detached duplex',\n",
    "       'v_CA01_118: Apartment, building that has fewer than five storeys',\n",
    "       'v_CA01_117: Apartment, building that has five or more storeys',\n",
    "       'v_CA01_119: Other single-attached house',\n",
    "       'v_CA01_98: Average number of bedrooms per dwelling',\n",
    "       'v_CA01_120: Movable dwelling','v_CA01_99: Owned', 'v_CA01_100: Rented']"
   ]
  },
  {
   "cell_type": "code",
   "execution_count": 24,
   "id": "5f42fa24-d496-415d-ba55-9b3313dfd4bb",
   "metadata": {},
   "outputs": [],
   "source": [
    "da2001 = da2001[col2001]"
   ]
  },
  {
   "cell_type": "markdown",
   "id": "01c8f4d2-cd8d-42bf-8d92-0b2189bcda86",
   "metadata": {},
   "source": [
    "## Rename Columns"
   ]
  },
  {
   "cell_type": "code",
   "execution_count": 25,
   "id": "a9894707-6977-4221-9034-9c4a8c6c71d6",
   "metadata": {},
   "outputs": [],
   "source": [
    "simplify_col_names(da2001)\n",
    "simplify_col_names(da2006)\n",
    "simplify_col_names(da2011)\n",
    "simplify_col_names(da2016)\n",
    "simplify_col_names(da2021)"
   ]
  },
  {
   "cell_type": "code",
   "execution_count": 26,
   "id": "62f9276f-6c36-4669-85f9-fbde94d6bb04",
   "metadata": {},
   "outputs": [],
   "source": [
    "da2001 = da2001.rename(columns={\n",
    "    \"Total number of occupied private dwellings by structural type of dwelling\": \"Total Occupied Private Dwellings\",\n",
    "    \"Apartment, detached duplex\": 'Apartment, duplex',\n",
    "})"
   ]
  },
  {
   "cell_type": "code",
   "execution_count": 27,
   "id": "2a19af13-0d96-4869-988f-a392b0f77b38",
   "metadata": {},
   "outputs": [],
   "source": [
    "da2006 = da2006.rename(columns={\n",
    "    \"Total number of occupied private dwellings by structural type of dwelling - 100% data\": \"Total Occupied Private Dwellings\"\n",
    "})"
   ]
  },
  {
   "cell_type": "code",
   "execution_count": 28,
   "id": "fb9d6df8-30c6-44f0-aa9f-1274aaf6c62d",
   "metadata": {},
   "outputs": [],
   "source": [
    "da2011 = da2011.rename(columns={\n",
    "    \"Total number of occupied private dwellings by structural type of dwelling\": \"Total Occupied Private Dwellings\",\n",
    "    \"Owner\": \"Owned\",\n",
    "    \"Renter\": \"Rented\"\n",
    "})"
   ]
  },
  {
   "cell_type": "code",
   "execution_count": 29,
   "id": "fc240154-518c-4478-95f4-7116f4e11af5",
   "metadata": {},
   "outputs": [],
   "source": [
    "da2016 = da2016.rename(columns={\n",
    "    \"Population density per square kilometre\": \"Population Density per square kilometre\",\n",
    "    \"Occupied private dwellings by structural type of dwelling data\": \"Total Occupied Private Dwellings\",\n",
    "    \"Apartment in a building that has fewer than five storeys\": \"Apartment, building that has fewer than five storeys\",\n",
    "    \"Apartment in a building that has five or more storeys\": \"Apartment, building that has five or more storeys\",\n",
    "    'Apartment or flat in a duplex': 'Apartment, duplex',\n",
    "    \"Owner\": \"Owned\",\n",
    "    \"Renter\": \"Rented\"\n",
    "})"
   ]
  },
  {
   "cell_type": "code",
   "execution_count": 30,
   "id": "7f7248eb-30f4-4d8b-b893-dc6cb6849efd",
   "metadata": {},
   "outputs": [],
   "source": [
    "da2021 = da2021.rename(columns={\n",
    "    \"Population density per square kilometre\": \"Population Density per square kilometre\",\n",
    "    \"Occupied private dwellings by structural type of dwelling data\": \"Total Occupied Private Dwellings\",\n",
    "    \"Apartment in a building that has fewer than five storeys\": \"Apartment, building that has fewer than five storeys\",\n",
    "    \"Apartment in a building that has five or more storeys\": \"Apartment, building that has five or more storeys\",\n",
    "    'Apartment or flat in a duplex': 'Apartment, duplex',\n",
    "    \"Owner\": \"Owned\",\n",
    "    \"Renter\": \"Rented\"\n",
    "})"
   ]
  },
  {
   "cell_type": "markdown",
   "id": "34b02d68-a2e0-466b-a48c-93c2a325405c",
   "metadata": {},
   "source": [
    "## Add Columns"
   ]
  },
  {
   "cell_type": "code",
   "execution_count": 31,
   "id": "2f64700a-43d5-4064-a2c5-583141b7c6df",
   "metadata": {},
   "outputs": [],
   "source": [
    "da2021[\"0 to 1 bedroom\"] = da2021[\"No bedrooms\"] + da2021[\"1 bedroom\"]\n",
    "da2016[\"0 to 1 bedroom\"] = da2016[\"No bedrooms\"] + da2016[\"1 bedroom\"]"
   ]
  },
  {
   "cell_type": "markdown",
   "id": "29ee837a-ba4a-4e9f-8358-2689bbf4eba0",
   "metadata": {},
   "source": [
    "## Export all the data"
   ]
  },
  {
   "cell_type": "code",
   "execution_count": 32,
   "id": "66d6f135-a987-48e8-bd66-18510b7c8f50",
   "metadata": {},
   "outputs": [],
   "source": [
    "da2001.to_csv('../../data_raw/cleaned_data/2001_census_data.csv', index=False)\n",
    "da2006.to_csv('../../data_raw/cleaned_data/2006_census_data.csv', index=False)\n",
    "da2011.to_csv('../../data_raw/cleaned_data/2011_census_data.csv', index=False)\n",
    "da2016.to_csv('../../data_raw/cleaned_data/2016_census_data.csv', index=False)\n",
    "da2021.to_csv('../../data_raw/cleaned_data/2021_census_data.csv', index=False)"
   ]
  }
 ],
 "metadata": {
  "kernelspec": {
   "display_name": "Python 3 (ipykernel)",
   "language": "python",
   "name": "python3"
  },
  "language_info": {
   "codemirror_mode": {
    "name": "ipython",
    "version": 3
   },
   "file_extension": ".py",
   "mimetype": "text/x-python",
   "name": "python",
   "nbconvert_exporter": "python",
   "pygments_lexer": "ipython3",
   "version": "3.13.5"
  }
 },
 "nbformat": 4,
 "nbformat_minor": 5
}
