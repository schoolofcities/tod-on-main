{
 "cells": [
  {
   "cell_type": "code",
   "execution_count": 1,
   "id": "afca3440-34b7-4a08-a150-3bd3c6f55210",
   "metadata": {},
   "outputs": [],
   "source": [
    "from shapely.geometry import Polygon, LineString, Point\n",
    "import pandas as pd\n",
    "import numpy as np\n",
    "import re\n",
    "import geopandas as gpd\n",
    "import matplotlib.pyplot as plt"
   ]
  },
  {
   "cell_type": "code",
   "execution_count": 2,
   "id": "99a7957d-1a61-4c8b-9368-3065ea678bc6",
   "metadata": {},
   "outputs": [],
   "source": [
    "# Everything must be in epsg = 32617 or 3857\n",
    "# 3857 makes it a smaller area than 32617\n",
    "# 32617 is closest to LANDAREA (when it exists)"
   ]
  },
  {
   "cell_type": "code",
   "execution_count": 7,
   "id": "9f1115ba-002d-4553-a0b3-f6726acbebfc",
   "metadata": {},
   "outputs": [
    {
     "name": "stderr",
     "output_type": "stream",
     "text": [
      "/opt/anaconda3/envs/SofC/lib/python3.13/site-packages/pyogrio/raw.py:198: RuntimeWarning: ../../data_raw/boundary_data/gda_000b06a_e/gda_000b06a_e.shp contains polygon(s) with rings with invalid winding order. Autocorrecting them, but that shapefile should be corrected using ogr2ogr for example.\n",
      "  return ogr_read(\n"
     ]
    }
   ],
   "source": [
    "station_data = pd.read_excel(\"../station-movers-V1.xlsx\")\n",
    "da2021 = pd.read_csv(\"../../data_raw/cleaned_data/2021_census_data.csv\")\n",
    "da2016 = pd.read_csv(\"../../data_raw/cleaned_data/2016_census_data.csv\")\n",
    "da2011 = pd.read_csv(\"../../data_raw/cleaned_data/2011_census_data.csv\")\n",
    "da2006 = pd.read_csv(\"../../data_raw/cleaned_data/2006_census_data.csv\")\n",
    "da2001 = pd.read_csv(\"../../data_raw/cleaned_data/2001_census_data.csv\")\n",
    "ct1996 = pd.read_csv(\"../../data_raw/cleaned_data/1996_census_data.csv\")\n",
    "ct1991 = pd.read_csv(\"../../data_raw/cleaned_data/1991_census_data.csv\")\n",
    "ct1986 = pd.read_csv(\"../../data_raw/cleaned_data/1986_census_data.csv\")\n",
    "ct1981 = pd.read_csv(\"../../data_raw/cleaned_data/1981_census_data.csv\")\n",
    "ct1976 = pd.read_csv(\"../../data_raw/cleaned_data/1976_census_data.csv\")\n",
    "boundaries_2021 = gpd.read_file(\"../../data_raw/boundary_data/lda_000b21a_e/lda_000b21a_e.shp\")\n",
    "boundaries_2016 = gpd.read_file(\"../../data_raw/boundary_data/lda_000b16a_e/lda_000b16a_e.shp\")\n",
    "boundaries_2011 = gpd.read_file(\"../../data_raw/boundary_data/gda_000b11a_e/gda_000b11a_e.shp\")\n",
    "boundaries_2006 = gpd.read_file(\"../../data_raw/boundary_data/gda_000b06a_e/gda_000b06a_e.shp\")\n",
    "boundaries_2001 = gpd.read_file(\"../../data_raw/boundary_data/gda_000b02m_e/gda_000b02m_e.MID\")\n",
    "boundaries_1996 = gpd.read_file(\"../../data_raw/CT_data/1996/ct_1996.geojson\")\n",
    "boundaries_1991 = gpd.read_file(\"../../data_raw/CT_data/1991/ct_1991.geojson\")\n",
    "boundaries_1986 = gpd.read_file(\"../../data_raw/CT_data/1986/ct_1986.geojson\")\n",
    "boundaries_1981 = gpd.read_file(\"../../data_raw/CT_data/1981/ct_1981.geojson\")\n",
    "boundaries_1976 = gpd.read_file(\"../../data_raw/CT_data/1976/ct_1976.geojson\")"
   ]
  },
  {
   "cell_type": "code",
   "execution_count": 4,
   "id": "662e120a-2f4b-4e99-8549-9e407105df7a",
   "metadata": {},
   "outputs": [],
   "source": [
    "station_gdf = gpd.GeoDataFrame(station_data, geometry=gpd.points_from_xy(station_data['X'], station_data['Y']))\n",
    "station_gdf.set_crs(epsg=4326, inplace=True)\n",
    "station_gdf = station_gdf.to_crs(epsg=32617)\n",
    "station_gdf[\"buffer\"] = station_gdf.buffer(800)"
   ]
  },
  {
   "cell_type": "code",
   "execution_count": 5,
   "id": "2550773b-11bd-4c1e-9b61-88f9ad4656f7",
   "metadata": {},
   "outputs": [],
   "source": [
    "boundaries_2021[\"DAUID\"] = boundaries_2021[\"DAUID\"].astype(int)\n",
    "boundaries_2021 = boundaries_2021.to_crs(epsg=32617)\n",
    "boundaries_2021 = boundaries_2021[[\"DAUID\",\"geometry\"]]"
   ]
  },
  {
   "cell_type": "code",
   "execution_count": 6,
   "id": "d77aaefd-50e2-488f-926d-b583ad8663a0",
   "metadata": {},
   "outputs": [],
   "source": [
    "boundaries_2016[\"DAUID\"] = boundaries_2016[\"DAUID\"].astype(int)\n",
    "boundaries_2016 = boundaries_2016.to_crs(epsg=32617)\n",
    "boundaries_2016 = boundaries_2016[[\"DAUID\",\"geometry\"]]"
   ]
  },
  {
   "cell_type": "code",
   "execution_count": 7,
   "id": "96993dec-46a8-4af8-a62f-e11409c7d231",
   "metadata": {},
   "outputs": [],
   "source": [
    "boundaries_2011[\"DAUID\"] = boundaries_2011[\"DAUID\"].astype(int)\n",
    "boundaries_2011 = boundaries_2011.to_crs(epsg=32617)\n",
    "boundaries_2011 = boundaries_2011[[\"DAUID\",\"geometry\"]]"
   ]
  },
  {
   "cell_type": "code",
   "execution_count": 8,
   "id": "55f3ada0-b783-4854-846f-7c778f57ceb6",
   "metadata": {},
   "outputs": [],
   "source": [
    "boundaries_2006[\"DAUID\"] = boundaries_2006[\"DAUID\"].astype(int)\n",
    "boundaries_2006 = boundaries_2006.to_crs(epsg=32617)\n",
    "boundaries_2006 = boundaries_2006[[\"DAUID\",\"geometry\"]]"
   ]
  },
  {
   "cell_type": "code",
   "execution_count": 9,
   "id": "a24d4fb6-c938-4f26-9c22-7ea338a3f879",
   "metadata": {},
   "outputs": [],
   "source": [
    "boundaries_2001[\"DAUID\"] = boundaries_2001[\"DAUID\"].astype(int)\n",
    "boundaries_2001 = boundaries_2001.to_crs(epsg=32617)\n",
    "boundaries_2001 = boundaries_2001[[\"DAUID\",\"geometry\"]]"
   ]
  },
  {
   "cell_type": "code",
   "execution_count": 10,
   "id": "198993d8-a40e-457d-8ccf-894043cf8212",
   "metadata": {},
   "outputs": [],
   "source": [
    "boundaries_1996 = boundaries_1996.to_crs(epsg=32617)\n",
    "boundaries_1996[\"geosid\"] = boundaries_1996[\"geosid\"].astype(float)\n",
    "boundaries_1996[\"area\"] = boundaries_1996[\"areakm\"] * 1000000 "
   ]
  },
  {
   "cell_type": "code",
   "execution_count": 11,
   "id": "7cc50c61-e176-486a-88b1-5983908eaae7",
   "metadata": {},
   "outputs": [],
   "source": [
    "boundaries_1991 = boundaries_1991.to_crs(epsg=32617)\n",
    "boundaries_1991[\"geosid\"] = boundaries_1991[\"geosid\"].astype(float)\n",
    "boundaries_1991[\"area\"] = boundaries_1991[\"areakm\"] * 1000000 "
   ]
  },
  {
   "cell_type": "code",
   "execution_count": 12,
   "id": "86e7233e-7d54-4177-a95e-a8ae9d2b37c3",
   "metadata": {},
   "outputs": [],
   "source": [
    "boundaries_1986 = boundaries_1986.to_crs(epsg=32617)\n",
    "boundaries_1986[\"geosid\"] = boundaries_1986[\"geosid\"].astype(float)\n",
    "boundaries_1986[\"area\"] = boundaries_1986[\"areakm\"] * 1000000 "
   ]
  },
  {
   "cell_type": "code",
   "execution_count": 13,
   "id": "4abf0ec7-a9f4-4189-bd38-ecee2208f78d",
   "metadata": {},
   "outputs": [],
   "source": [
    "boundaries_1981 = boundaries_1981.to_crs(epsg=32617)\n",
    "boundaries_1981[\"geosid\"] = boundaries_1981[\"geosid\"].astype(float)\n",
    "boundaries_1981[\"area\"] = boundaries_1981[\"areakm\"] * 1000000 "
   ]
  },
  {
   "cell_type": "code",
   "execution_count": 14,
   "id": "7bc9b7b7-9b2a-4ae2-a587-c6bab86ec64d",
   "metadata": {},
   "outputs": [],
   "source": [
    "boundaries_1976 = boundaries_1976.drop(index=[2310, 2484])\n",
    "\n",
    "boundaries_1976 = boundaries_1976.to_crs(epsg=32617)\n",
    "boundaries_1976[\"geosid\"] = boundaries_1976[\"geosid\"].astype(float)\n",
    "boundaries_1976[\"area\"] = boundaries_1976[\"areakm\"] * 1000000 "
   ]
  },
  {
   "cell_type": "code",
   "execution_count": 15,
   "id": "850ed7a9-dbd9-4d92-81f7-8d41ce71c802",
   "metadata": {},
   "outputs": [],
   "source": [
    "mapping_years = {\n",
    "    2021: [boundaries_2021, da2021],\n",
    "    2016: [boundaries_2016, da2016],\n",
    "    2011: [boundaries_2011, da2011],\n",
    "    2006: [boundaries_2006, da2006],\n",
    "    2001: [boundaries_2001, da2001],\n",
    "    \n",
    "    1996: [boundaries_1996, ct1996],\n",
    "    1991: [boundaries_1991, ct1991],\n",
    "    1986: [boundaries_1986, ct1986],\n",
    "    1981: [boundaries_1981, ct1981],\n",
    "    1976: [boundaries_1976, ct1976],\n",
    "}"
   ]
  },
  {
   "cell_type": "markdown",
   "id": "93b2fdd8-b1c8-4be6-9c8a-121049d3f46b",
   "metadata": {},
   "source": [
    "## Functions"
   ]
  },
  {
   "cell_type": "code",
   "execution_count": 1,
   "id": "6c75968f-fe9d-4d5e-9f3e-ab9a5d1aea91",
   "metadata": {},
   "outputs": [],
   "source": [
    "def ten_yr_span(dates, my_list):\n",
    "    top_year = max(my_list)\n",
    "    bottom_year = min(my_list)\n",
    "\n",
    "    closest = min(my_list, key=lambda x: abs(x - dates))\n",
    "    if closest == bottom_year:\n",
    "        return closest, closest + 5, closest + 10\n",
    "    elif closest == top_year:\n",
    "        return closest - 10, closest - 5, closest\n",
    "    return closest - 5, closest, closest + 5\n",
    "        "
   ]
  },
  {
   "cell_type": "code",
   "execution_count": 12,
   "id": "525456a8-9e36-40db-a7d7-2da803f84569",
   "metadata": {},
   "outputs": [
    {
     "data": {
      "text/plain": [
       "(2006, 2011, 2016)"
      ]
     },
     "execution_count": 12,
     "metadata": {},
     "output_type": "execute_result"
    }
   ],
   "source": [
    "ten_yr_span(2009, [1996, 2001, 2006, 2011, 2016])"
   ]
  },
  {
   "cell_type": "code",
   "execution_count": 17,
   "id": "bd770794-5c02-4e3d-a197-e6b1aeeff264",
   "metadata": {},
   "outputs": [],
   "source": [
    "def get_dates(data, date_col):\n",
    "    \"\"\"\n",
    "    Get the 10_yr_span of dates\n",
    "    Add this is before/after date columns to the dataframe\n",
    "    Saves it in_place\n",
    "    \"\"\"\n",
    "    dates = pd.to_datetime(data[date_col])\n",
    "    years = dates.dt.year\n",
    "    list_of_years = [1976, 1981, 1986, 1991, 1996, 2001, 2006, 2011, 2016, 2021]\n",
    "    set_of_years = years.apply(lambda x: ten_yr_span(x, list_of_years))\n",
    "    years_df = pd.DataFrame(set_of_years.tolist(), columns=[f\"before_{date_col}\", f\"middle_{date_col}\", f\"after_{date_col}\"])\n",
    "    return_df = pd.concat([data, years_df], axis=1)\n",
    "    return return_df"
   ]
  },
  {
   "cell_type": "code",
   "execution_count": 18,
   "id": "6ac3172a-a69b-4fcb-845a-fd3d611a8b10",
   "metadata": {},
   "outputs": [],
   "source": [
    "def find_overlap(buffer_area, boundary_data):\n",
    "    \"\"\"\n",
    "    Given a buffer area, find the overlapping regions\n",
    "    Get the census data of the relevant year\n",
    "    1) Find the overlapping regions\n",
    "    2) Calculate the area of overlap\n",
    "    3) Find the proportion of each areas (if proportion > 1; proportion = 1)\n",
    "    \"\"\"\n",
    "    overlapping = boundary_data[boundary_data.intersects(buffer_area)].reset_index()    \n",
    "    overlapping.loc[:,\"overlap\"] = overlapping.geometry.intersection(buffer_area).area\n",
    "    overlapping[\"proportion\"] = overlapping[\"overlap\"] / overlapping.area\n",
    "    overlapping[\"proportion\"] = overlapping[\"proportion\"].where(overlapping[\"proportion\"] <= 1, 1)\n",
    "    return overlapping"
   ]
  },
  {
   "cell_type": "code",
   "execution_count": 19,
   "id": "2d895639-fb50-4bd6-8cfa-7fcc5fa05760",
   "metadata": {},
   "outputs": [],
   "source": [
    "def find_data(boundary_data, census_data, year):\n",
    "    \"\"\"\n",
    "    1) Merge the boundary and census data\n",
    "    2) Mulitply the census data by the proportion\n",
    "    3) Sum all the census data \n",
    "    4) Return a row of values\n",
    "    \"\"\"\n",
    "    if year >= 2001:\n",
    "        combined = boundary_data.merge(census_data, left_on = \"DAUID\", right_on = \"GeoUID\")\n",
    "        useful = combined.iloc[:,4:]\n",
    "        useful_portioned = useful.mul(useful[\"proportion\"], axis=0)\n",
    "        summed_row = useful_portioned.sum()[3:]\n",
    "        return summed_row\n",
    "    else:\n",
    "        combined = boundary_data.merge(census_data, on = \"geosid\")\n",
    "        useful = combined.iloc[:,16:]\n",
    "        useful_portioned = useful.mul(useful[\"proportion\"], axis=0)\n",
    "        summed_row = useful_portioned.sum()[1:]\n",
    "        return summed_row"
   ]
  },
  {
   "cell_type": "code",
   "execution_count": 20,
   "id": "ad868974-0e2f-4657-a923-edea619619d5",
   "metadata": {},
   "outputs": [],
   "source": [
    "def join_rows(array_of_series):\n",
    "    df = pd.DataFrame(array_of_series)\n",
    "    return df"
   ]
  },
  {
   "cell_type": "markdown",
   "id": "3a1a9d68-03d0-463b-b903-276b1599ec60",
   "metadata": {},
   "source": [
    "## Running Everything"
   ]
  },
  {
   "cell_type": "code",
   "execution_count": 21,
   "id": "5fa8ea46-0149-4f37-bebf-129a85fd49ba",
   "metadata": {
    "scrolled": true
   },
   "outputs": [
    {
     "name": "stderr",
     "output_type": "stream",
     "text": [
      "/var/folders/qd/w0jg42cx76sc6s81d9zfb7t80000gn/T/ipykernel_38805/808158239.py:7: UserWarning: Could not infer format, so each element will be parsed individually, falling back to `dateutil`. To ensure parsing is consistent and as-expected, please specify a format.\n",
      "  dates = pd.to_datetime(data[date_col])\n"
     ]
    }
   ],
   "source": [
    "station_gdf = get_dates(station_gdf, \"opening_date\")"
   ]
  },
  {
   "cell_type": "code",
   "execution_count": 22,
   "id": "5f9f5a8d-ea02-4e2e-8201-99408316d648",
   "metadata": {},
   "outputs": [],
   "source": [
    "each_row = []\n",
    "\n",
    "for i, row in station_gdf.iterrows():\n",
    "    before_year = row[\"before_opening_date\"]\n",
    "    middle_year = row[\"middle_opening_date\"]\n",
    "    after_year = row[\"after_opening_date\"]\n",
    "    area = row[\"buffer\"]\n",
    "\n",
    "    before_b_data = mapping_years[before_year][0]\n",
    "    before_c_data = mapping_years[before_year][1]\n",
    "    middle_b_data = mapping_years[middle_year][0]\n",
    "    middle_c_data = mapping_years[middle_year][1]\n",
    "    after_b_data = mapping_years[after_year][0]\n",
    "    after_c_data = mapping_years[after_year][1]\n",
    "  \n",
    "    before_overlap = find_overlap(area, before_b_data)\n",
    "    before_row = find_data(before_overlap, before_c_data, before_year)\n",
    "    middle_overlap = find_overlap(area, middle_b_data)\n",
    "    middle_row = find_data(middle_overlap, middle_c_data, middle_year)\n",
    "    after_overlap = find_overlap(area, after_b_data)\n",
    "    after_row = find_data(after_overlap, after_c_data, after_year)\n",
    "\n",
    "    before_row.index = [\"Before \" + str(i) for i in before_row.index]\n",
    "    middle_row.index = [\"Middle \" + str(i) for i in middle_row.index]\n",
    "    after_row.index = [\"After \" + str(i) for i in after_row.index]\n",
    "\n",
    "    full_row = pd.concat([before_row, middle_row, after_row])\n",
    "    each_row.append(full_row)"
   ]
  },
  {
   "cell_type": "code",
   "execution_count": 23,
   "id": "117323f8-10e2-4212-8cec-4c82c704e7ae",
   "metadata": {},
   "outputs": [],
   "source": [
    "full = join_rows(each_row)"
   ]
  },
  {
   "cell_type": "code",
   "execution_count": 24,
   "id": "f25b198d-07c0-4a5a-b57f-faeb57315f55",
   "metadata": {},
   "outputs": [],
   "source": [
    "ordered_columns = [\n",
    "        'Before Population Density per square kilometre', 'Before Dwellings',\n",
    "        'Before Total Occupied Private Dwellings',\n",
    "        'Before Single-detached house', 'Before Semi-detached house',\n",
    "        #'Before Other attached dwelling',\n",
    "        'Before Row house', 'Before Apartment',\n",
    "        'Before Apartment, duplex',\n",
    "        'Before Apartment, building that has fewer than five storeys',\n",
    "        'Before Apartment, building that has five or more storeys',\n",
    "        'Before Other dwelling', 'Before Other single-attached house',\n",
    "        'Before Movable dwelling', \n",
    "        'Before No bedrooms',\n",
    "        'Before 0 to 1 bedroom', \n",
    "        'Before 1 bedroom', 'Before 2 bedrooms',\n",
    "        'Before 3 bedrooms', \n",
    "        'Before 4 bedrooms', \n",
    "        'Before 4 or more bedrooms', \n",
    "        'Before 5 or more bedrooms', \n",
    "        'Before Average number of bedrooms per dwelling', \n",
    "        'Before Owned',\n",
    "        'Before Rented', \n",
    "\n",
    "        'Middle Population Density per square kilometre', 'Middle Dwellings',\n",
    "        'Middle Total Occupied Private Dwellings',\n",
    "        'Middle Single-detached house', 'Middle Semi-detached house',\n",
    "        'Middle Other attached dwelling',\n",
    "        'Middle Row house', #'Middle Apartment',\n",
    "        'Middle Apartment, duplex',\n",
    "        'Middle Apartment, building that has fewer than five storeys',\n",
    "        'Middle Apartment, building that has five or more storeys',\n",
    "        'Middle Other dwelling', 'Middle Other single-attached house',\n",
    "        'Middle Movable dwelling', \n",
    "        'Middle No bedrooms',\n",
    "        'Middle 0 to 1 bedroom', \n",
    "        'Middle 1 bedroom', 'Middle 2 bedrooms',\n",
    "        'Middle 3 bedrooms', \n",
    "        'Middle 4 bedrooms', \n",
    "        'Middle 4 or more bedrooms', \n",
    "        'Middle 5 or more bedrooms',\n",
    "        'Middle Average number of bedrooms per dwelling', \n",
    "        'Middle Owned',\n",
    "        'Middle Rented',\n",
    "        \n",
    "        'After Population Density per square kilometre', 'After Dwellings',\n",
    "        'After Total Occupied Private Dwellings',\n",
    "        'After Single-detached house', 'After Semi-detached house',\n",
    "        'After Other attached dwelling',\n",
    "        'After Row house', \n",
    "        'After Apartment, duplex',\n",
    "        'After Apartment, building that has fewer than five storeys',\n",
    "        'After Apartment, building that has five or more storeys',\n",
    "        'After Other dwelling', 'After Other single-attached house',\n",
    "        'After Movable dwelling', \n",
    "        'After No bedrooms',\n",
    "        'After 0 to 1 bedroom', \n",
    "        'After 1 bedroom', 'After 2 bedrooms',\n",
    "        'After 3 bedrooms',\n",
    "        # 'After 4 bedrooms', \n",
    "        'After 4 or more bedrooms', \n",
    "        # 'After 5 or more bedrooms',\n",
    "        'After Average number of bedrooms per dwelling',\n",
    "        'After Owned',\n",
    "        'After Rented'\n",
    "]\n",
    "\n",
    "full = full[ordered_columns]"
   ]
  },
  {
   "cell_type": "code",
   "execution_count": 25,
   "id": "a69d2f71-74fd-4815-b1a4-9d973001522e",
   "metadata": {},
   "outputs": [],
   "source": [
    "combined_df = pd.concat([station_gdf, full], axis=1)"
   ]
  },
  {
   "cell_type": "code",
   "execution_count": 26,
   "id": "42dbcf48-7bf3-4c21-ab08-9fabbd6c6de2",
   "metadata": {},
   "outputs": [],
   "source": [
    "combined_df.to_csv('../data/tod-on-main.csv', index=False)"
   ]
  }
 ],
 "metadata": {
  "kernelspec": {
   "display_name": "Python 3 (ipykernel)",
   "language": "python",
   "name": "python3"
  },
  "language_info": {
   "codemirror_mode": {
    "name": "ipython",
    "version": 3
   },
   "file_extension": ".py",
   "mimetype": "text/x-python",
   "name": "python",
   "nbconvert_exporter": "python",
   "pygments_lexer": "ipython3",
   "version": "3.13.5"
  }
 },
 "nbformat": 4,
 "nbformat_minor": 5
}
