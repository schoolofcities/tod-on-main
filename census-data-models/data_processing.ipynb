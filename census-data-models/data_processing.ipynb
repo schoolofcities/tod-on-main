{
 "cells": [
  {
   "cell_type": "markdown",
   "id": "cfa6cb5f-ce18-40fb-9a6a-46d4c5a2e709",
   "metadata": {},
   "source": [
    "## Data Processing"
   ]
  },
  {
   "cell_type": "code",
   "execution_count": 2,
   "id": "1f30c109-6b9a-4292-9845-55d909164cca",
   "metadata": {},
   "outputs": [],
   "source": [
    "import pandas as pd"
   ]
  },
  {
   "cell_type": "code",
   "execution_count": 4,
   "id": "bf0c6856-a118-4c20-86be-48c87637162e",
   "metadata": {},
   "outputs": [],
   "source": [
    "station_data = pd.read_excel(\"historical-census-data-models/station-movers-V1.xlsx\")"
   ]
  },
  {
   "cell_type": "code",
   "execution_count": 5,
   "id": "b1d79e16-3015-46a9-9059-7e2553d36900",
   "metadata": {},
   "outputs": [
    {
     "data": {
      "text/plain": [
       "Index(['station_fid', 'Y', 'X', 'stop_label_x', 'line_label_x', 'technology_x',\n",
       "       'PRUID', 'opening_date', 'construction_date', 'announcement_date',\n",
       "       'City', 'n_movers_in', 'n_movers_in_with_child',\n",
       "       'n_movers_in_Lowincome', 'movers_in_med_income', 'movers_in_med_age',\n",
       "       'n_movers_out', 'n_movers_out_with_child', 'n_movers_out_Lowincome',\n",
       "       'movers_out_med_income', 'movers_out_med_age', 'n_stayers',\n",
       "       'n_stayers_with_child', 'n_stayers_Lowincome', 'stayers_med_income',\n",
       "       'stayers_med_age'],\n",
       "      dtype='object')"
      ]
     },
     "execution_count": 5,
     "metadata": {},
     "output_type": "execute_result"
    }
   ],
   "source": [
    "station_data.columns"
   ]
  },
  {
   "cell_type": "code",
   "execution_count": 6,
   "id": "499695ac-7101-413c-aa2b-ab36606ce533",
   "metadata": {},
   "outputs": [
    {
     "data": {
      "text/plain": [
       "array(['Calgray', 'Edmonton', 'Toronto', 'Montreal', 'Vancouver'],\n",
       "      dtype=object)"
      ]
     },
     "execution_count": 6,
     "metadata": {},
     "output_type": "execute_result"
    }
   ],
   "source": [
    "station_data[\"City\"].unique()"
   ]
  },
  {
   "cell_type": "code",
   "execution_count": 6,
   "id": "f8996dce-d10a-47b0-966a-ab674ea1df05",
   "metadata": {},
   "outputs": [
    {
     "data": {
      "text/plain": [
       "0      8-Dec-12\n",
       "1      8-Dec-12\n",
       "2      9-Oct-01\n",
       "3     30-Aug-90\n",
       "4      9-Oct-01\n",
       "        ...    \n",
       "65    31-Aug-02\n",
       "66    17-Aug-09\n",
       "67    31-Aug-02\n",
       "68    17-Aug-09\n",
       "69    17-Aug-09\n",
       "Name: opening_date, Length: 70, dtype: object"
      ]
     },
     "execution_count": 6,
     "metadata": {},
     "output_type": "execute_result"
    }
   ],
   "source": [
    "station_data[\"opening_date\"]"
   ]
  }
 ],
 "metadata": {
  "kernelspec": {
   "display_name": "Python 3 (ipykernel)",
   "language": "python",
   "name": "python3"
  },
  "language_info": {
   "codemirror_mode": {
    "name": "ipython",
    "version": 3
   },
   "file_extension": ".py",
   "mimetype": "text/x-python",
   "name": "python",
   "nbconvert_exporter": "python",
   "pygments_lexer": "ipython3",
   "version": "3.13.5"
  }
 },
 "nbformat": 4,
 "nbformat_minor": 5
}
